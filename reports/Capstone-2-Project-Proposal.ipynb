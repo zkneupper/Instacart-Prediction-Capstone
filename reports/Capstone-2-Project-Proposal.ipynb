{
 "cells": [
  {
   "cell_type": "markdown",
   "metadata": {},
   "source": [
    "# Capstone 2 Project Proposal - Predicting Behavior of Instacart Shoppers"
   ]
  },
  {
   "cell_type": "markdown",
   "metadata": {},
   "source": [
    "### The Problem To Be Solved\n",
    "\n",
    "The goal of this capstone project is to build a model to predict what grocery items each Instacart user will reorder based on the user's purchase history."
   ]
  },
  {
   "cell_type": "markdown",
   "metadata": {},
   "source": [
    "### Who Is My Hypothetical Client & Why Would They Care About This Problem? \n",
    "\n",
    "My hypothetical client is Instacart.\n",
    "\n",
    "With the proposed predictive model, Instacart could provide its users with useful purchase recommendations and improve the app's overall user experience.  This could help Instacart retain current app users and increase the number of purchases through the app."
   ]
  },
  {
   "cell_type": "markdown",
   "metadata": {},
   "source": [
    "### Data Source\n",
    "\n",
    "Last year, Instacart released a public dataset, “The Instacart Online Grocery Shopping Dataset 2017”.  The dataset contains over 3 million anonymized grocery orders from more than 200,000 Instacart users.  The dataset can be downloaded [here](https://www.instacart.com/datasets/grocery-shopping-2017), and a description of the tables and variables in the dataset can be seen [here](https://gist.github.com/jeremystan/c3b39d947d9b88b3ccff3147dbcf6c6b)."
   ]
  },
  {
   "cell_type": "markdown",
   "metadata": {},
   "source": [
    "### Approach To Solving The Problem\n",
    "\n",
    "First, I plan to do a significant amount of feature engineering.  The feature engineering phase of the project will probably be the most time-consuming.\n",
    "\n",
    "Once I have transformed the data, I plan on training a gradient boosting model to predict whether a user will reorder an item that they previously ordered.\n",
    "\n",
    "This may be subject to change."
   ]
  },
  {
   "cell_type": "markdown",
   "metadata": {},
   "source": [
    "### Project Deliverables\n",
    "\n",
    "The deliverables for this project will include:\n",
    "1.  A Jupyter notebook that contains explanations of each step of the analysis and the code used to perform that analysis;\n",
    "2.  A paper summarizing my analysis (in .PDF format);\n",
    "3.  A slide deck summarizing my analysis; and\n",
    "4.  A GitHub repository containing the above-mentioned Jupyter notebook, paper, and slide deck."
   ]
  }
 ],
 "metadata": {
  "kernelspec": {
   "display_name": "Python 3",
   "language": "python",
   "name": "python3"
  },
  "language_info": {
   "codemirror_mode": {
    "name": "ipython",
    "version": 3
   },
   "file_extension": ".py",
   "mimetype": "text/x-python",
   "name": "python",
   "nbconvert_exporter": "python",
   "pygments_lexer": "ipython3",
   "version": "3.6.1"
  }
 },
 "nbformat": 4,
 "nbformat_minor": 2
}
