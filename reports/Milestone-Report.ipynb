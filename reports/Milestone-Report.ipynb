{
 "cells": [
  {
   "cell_type": "markdown",
   "metadata": {},
   "source": [
    "# Milestone Report For Capstone Project 2: Predicting Behavior of Instacart Shoppers"
   ]
  },
  {
   "cell_type": "markdown",
   "metadata": {},
   "source": [
    "In this Milestone Report, we will do the following:\n",
    "\n",
    "1. Define the problem;\n",
    "2. Identify our client;\n",
    "3. Describe our data set, and how we cleaned/wrangled it;\n",
    "4. List other potential data sets we could use; and\n",
    "5. Explain our initial findings."
   ]
  },
  {
   "cell_type": "markdown",
   "metadata": {},
   "source": [
    "### 1. Define the problem\n",
    "\n",
    "The goal of this capstone project is to build a model to predict what grocery items each Instacart user will reorder based on the user's purchase history."
   ]
  },
  {
   "cell_type": "markdown",
   "metadata": {},
   "source": [
    "### 2. Identify the client\n",
    "\n",
    "Our client is Instacart.  With the proposed predictive model, Instacart could provide its users with useful purchase recommendations and improve the app's overall user experience.  This could help Instacart retain current app users and increase the number of purchases through the app."
   ]
  },
  {
   "cell_type": "markdown",
   "metadata": {},
   "source": [
    "### 3. Describe our dataset, and how we cleaned/wrangled it;"
   ]
  },
  {
   "cell_type": "markdown",
   "metadata": {},
   "source": [
    "#### Our Data Source\n",
    "\n",
    "Last year, Instacart released a public dataset, “The Instacart Online Grocery Shopping Dataset 2017”.  The dataset contains over 3 million anonymized grocery orders from more than 200,000 Instacart users.  We use this dataset in our analysis.  The dataset can be downloaded [here](https://www.instacart.com/datasets/grocery-shopping-2017)\n",
    "\n",
    "-----------------------------------\n",
    "\n",
    "#### Data Description\n",
    "\n",
    "The Instacart dataset contains six tables in `.csv` format:\n",
    "\n",
    "1. `aisles.csv`\n",
    "2. `deptartments.csv`\n",
    "3. `order_products__prior.csv`\n",
    "4. `order_products__train.csv`\n",
    "5. `orders.csv`\n",
    "6. `products.csv`\n",
    "\n",
    "A more detailed description of these tables is as follows:\n",
    "\n",
    "\n",
    "`orders` (3.4m rows, 206k users):\n",
    "* `order_id`: order identifier\n",
    "* `user_id`: customer identifier\n",
    "* `eval_set`: which evaluation set this order belongs in (see `SET` described below)\n",
    "* `order_number`: the order sequence number for this user (1 = first, n = nth)\n",
    "* `order_dow`: the day of the week the order was placed on\n",
    "* `order_hour_of_day`: the hour of the day the order was placed on\n",
    "* `days_since_prior`: days since the last order, capped at 30 (with NAs for `order_number` = 1)\n",
    "\n",
    "`products` (50k rows):\n",
    "* `product_id`: product identifier\n",
    "* `product_name`: name of the product\n",
    "* `aisle_id`: foreign key\n",
    "* `department_id`: foreign key\n",
    "\n",
    "`aisles` (134 rows):\n",
    "* `aisle_id`: aisle identifier\n",
    "* `aisle`: the name of the aisle\n",
    "\n",
    "`deptartments` (21 rows):\n",
    "* `department_id`: department identifier\n",
    "* `department`: the name of the department\n",
    "\n",
    "`order_products__SET` (30m+ rows):\n",
    "* `order_id`: foreign key\n",
    "* `product_id`: foreign key\n",
    "* `add_to_cart_order`: order in which each product was added to cart\n",
    "* `reordered`: 1 if this product has been ordered by this user in the past, 0 otherwise\n",
    "\n",
    "where `SET` is one of the four following evaluation sets (`eval_set` in `orders`):\n",
    "* `\"prior\"`: orders prior to that users most recent order (~3.2m orders)\n",
    "* `\"train\"`: training data supplied to participants (~131k orders)\n",
    "* `\"test\"`: test data reserved for machine learning competitions (~75k orders)\n",
    "\n",
    "(Source: https://gist.github.com/jeremystan/c3b39d947d9b88b3ccff3147dbcf6c6b)"
   ]
  },
  {
   "cell_type": "markdown",
   "metadata": {
    "collapsed": true
   },
   "source": [
    "#### Data Wrangling & Feature Engineering\n",
    "\n",
    "Our first step in wrangling the Instacart dataset was to take the contents of the six  `.csv` files and store them in one SQLite database.\n",
    "\n",
    "We then used SQL to transform the dataset to create a new table that we could use to train and test our machine learning model.\n",
    "\n",
    "##### The Index\n",
    "\n",
    "We created a list of unique pairs of users and products from the `prior` set of orders.  We gave this list the label \"`up_pair`\" for \"user-product pair\".  This list list was used as a unique index of our final data table.\n",
    "\n",
    "##### The Target\n",
    "\n",
    "We created a binary target variable `y` for whether or not a user reordered a product.\n",
    "\n",
    "For each unique pair of user and product from the `prior` set of orders, if the user bought the product in the  `prior` set of orders *and* reordered the product in the `train` set of orders, then our target variable `y` is assigned the value 1.  On the other hand, if the user bought the product in the  `prior` set, but they didn't reorder the product in the `train` set, then our target variable `y` is assigned the value 0.\n",
    "\n",
    "##### The Features\n",
    "\n",
    "We engineered five explanatory features.  These features are as follows:\n",
    "\n",
    "Given the user-product pair of (User A, Product B),\n",
    "\n",
    "1. `total_buy_n5`: the total number of times User A bought Product B out of the 5 most recent orders.\n",
    "\n",
    "2. `total_buy_ratio_n5`: the proportion of User A's 5 most recent orders in which User A bought Product B.\n",
    "\n",
    "3. `order_ratio_by_chance_n5`: the proportion of User A's 5 most recent orders in which User A had the \"chance\" to buy B, and did indeed do so.  Here, a \"chance\" refers to the number of opportunities the user had for buying the item after first encountering (*viz.*, buying)  it. For example, if a User A bought Product B for the first time in their 4th most recent order, then the user would have had 4 chances to buy the product.  If that user had bought the product only in their 4th and 2nd most recent orders, then `order_ratio_by_chance_n5` would be 0.5 (*i.e., (1+1)/4) for that user-product pair.\n",
    "\n",
    "4. `useritem_order_days_max_n5`: the longest number of days that User A has recently gone without buying Product B.  We are only considering the 5 most recent orders.\n",
    "\n",
    "5. `useritem_order_days_min_n5`: the shortest number of days that User A has recently gone without buying Product B.  Again, we are only considering the 5 most recent orders.\n",
    "\n",
    "\n",
    "The choice of these five features was inspired by [Onodera's solution](http://blog.kaggle.com/2017/09/21/instacart-market-basket-analysis-winners-interview-2nd-place-kazuki-onodera/]), which won 2nd place in the Instacart Kaggle competition."
   ]
  },
  {
   "cell_type": "markdown",
   "metadata": {},
   "source": [
    "### 4. List other potential data sets we could use\n",
    "\n",
    "We did not deem it appropriate or necessary to use any additional sources of data."
   ]
  },
  {
   "cell_type": "markdown",
   "metadata": {},
   "source": [
    "### 5. Explain our initial findings\n",
    "\n",
    "\n",
    "\n"
   ]
  },
  {
   "cell_type": "code",
   "execution_count": null,
   "metadata": {
    "collapsed": true
   },
   "outputs": [],
   "source": []
  },
  {
   "cell_type": "code",
   "execution_count": null,
   "metadata": {
    "collapsed": true
   },
   "outputs": [],
   "source": []
  },
  {
   "cell_type": "code",
   "execution_count": null,
   "metadata": {
    "collapsed": true
   },
   "outputs": [],
   "source": []
  }
 ],
 "metadata": {
  "kernelspec": {
   "display_name": "Python 3",
   "language": "python",
   "name": "python3"
  },
  "language_info": {
   "codemirror_mode": {
    "name": "ipython",
    "version": 3
   },
   "file_extension": ".py",
   "mimetype": "text/x-python",
   "name": "python",
   "nbconvert_exporter": "python",
   "pygments_lexer": "ipython3",
   "version": "3.6.1"
  }
 },
 "nbformat": 4,
 "nbformat_minor": 2
}
