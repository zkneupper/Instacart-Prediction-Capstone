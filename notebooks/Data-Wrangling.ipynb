{
 "cells": [
  {
   "cell_type": "markdown",
   "metadata": {},
   "source": [
    "# Instacart Data-Wrangling"
   ]
  },
  {
   "cell_type": "markdown",
   "metadata": {},
   "source": [
    "In this notebook, we will do the following:\n",
    "\n",
    "1. Inspect the size of the data, and check if the data can fit into local memory. \n",
    "2. Review the Data Description\n",
    "3. Conduct exploratory data analysis (EDA) on each of the raw data files.\n",
    "\n",
    "\n",
    "\n"
   ]
  },
  {
   "cell_type": "markdown",
   "metadata": {},
   "source": [
    "### Import libraries and modify notebook settings"
   ]
  },
  {
   "cell_type": "code",
   "execution_count": 1,
   "metadata": {
    "collapsed": true
   },
   "outputs": [],
   "source": [
    "# Import libraries\n",
    "import os\n",
    "import sys\n",
    "from psutil import virtual_memory\n",
    "\n",
    "import numpy as np\n",
    "import pandas as pd\n",
    "import matplotlib.pyplot as plt\n",
    "import seaborn as sns\n",
    "\n",
    "from IPython.display import display, HTML, Markdown\n",
    "\n",
    "# Modify notebook settings\n",
    "%matplotlib inline\n",
    "pd.options.display.max_columns = 100"
   ]
  },
  {
   "cell_type": "markdown",
   "metadata": {},
   "source": [
    "### Create paths to data folders and create list of data files"
   ]
  },
  {
   "cell_type": "code",
   "execution_count": 2,
   "metadata": {},
   "outputs": [],
   "source": [
    "# Create a variable for the project root directory\n",
    "proj_root = os.path.join(os.pardir)\n",
    "\n",
    "# Save the path to the folder \n",
    "# containing the original, immutable data dump:\n",
    "# /data/raw/instacart_2017_05_01\n",
    "raw_data_dir = os.path.join(proj_root,\n",
    "                                \"data\",\n",
    "                                \"raw\",\n",
    "                                \"instacart_2017_05_01\")\n",
    "\n",
    "# Save the path to the folder\n",
    "# that will contain the intermediate data that will\n",
    "# be transformed:\n",
    "# /data/interim\n",
    "interim_data_dir = os.path.join(proj_root,\n",
    "                                \"data\",\n",
    "                                \"interim\")\n",
    "\n",
    "# Save path to data_description.md\n",
    "data_description_file_path = os.path.join(proj_root,\n",
    "                                          \"references\",\n",
    "                                          \"data_description.md\")"
   ]
  },
  {
   "cell_type": "code",
   "execution_count": 3,
   "metadata": {},
   "outputs": [
    {
     "data": {
      "text/plain": [
       "['aisles.csv',\n",
       " 'departments.csv',\n",
       " 'order_products__prior.csv',\n",
       " 'order_products__train.csv',\n",
       " 'orders.csv',\n",
       " 'products.csv']"
      ]
     },
     "execution_count": 3,
     "metadata": {},
     "output_type": "execute_result"
    }
   ],
   "source": [
    "# Create list of data files\n",
    "raw_data_files = os.listdir(raw_data_dir)\n",
    "raw_data_files"
   ]
  },
  {
   "cell_type": "code",
   "execution_count": 48,
   "metadata": {},
   "outputs": [
    {
     "data": {
      "text/plain": [
       "6"
      ]
     },
     "execution_count": 48,
     "metadata": {},
     "output_type": "execute_result"
    }
   ],
   "source": [
    "len(raw_data_files)"
   ]
  },
  {
   "cell_type": "markdown",
   "metadata": {
    "collapsed": true
   },
   "source": [
    "### Define functions we will use later"
   ]
  },
  {
   "cell_type": "code",
   "execution_count": 4,
   "metadata": {
    "collapsed": true
   },
   "outputs": [],
   "source": [
    "#sizeof_fmt\n",
    "def format_bytes_size(num):\n",
    "    \"\"\"\n",
    "    Given an integer value of bytes, \n",
    "    convert to the most appropriate units\n",
    "    ('bytes', 'kB', 'MB', 'GB', ...), and    \n",
    "    return a string containing the number \n",
    "    of units and the unit label \n",
    "    ('bytes', 'kB', 'MB', 'GB', ...)\n",
    "    \"\"\"\n",
    "    base = 1024\n",
    "    for unit in ['bytes', 'kB', 'MB', 'GB', 'TB', 'PB', 'EB', 'ZB', 'YB']:\n",
    "        if abs(num) < base:\n",
    "            return \"%3.2f %s\" % (num, unit)\n",
    "            break\n",
    "        else:\n",
    "            num /= base"
   ]
  },
  {
   "cell_type": "code",
   "execution_count": 5,
   "metadata": {
    "collapsed": true
   },
   "outputs": [],
   "source": [
    "def create_df(file_index_number=0, \n",
    "              file_list=raw_data_files, \n",
    "              file_dir=raw_data_dir):\n",
    "    \"\"\"\n",
    "    Function to create a DataFrame given an \n",
    "    index number of the file list (raw_data_files)\n",
    "    \"\"\"\n",
    "\n",
    "    # Set path\n",
    "    file_dir = os.path.join(file_dir, file_list[file_index_number])\n",
    "    \n",
    "    # Create DataFrame from path\n",
    "    df_f = pd.read_csv(file_dir)\n",
    "\n",
    "    return df_f"
   ]
  },
  {
   "cell_type": "code",
   "execution_count": 6,
   "metadata": {
    "collapsed": true
   },
   "outputs": [],
   "source": [
    "def preview_df(file_index_number=0, \n",
    "               file_list=raw_data_files, \n",
    "               file_dir=raw_data_dir):\n",
    "    \"\"\"\n",
    "    Function to print/display summary of a \n",
    "    DataFrame given an index number of the\n",
    "    file list (raw_data_files)\n",
    "    \"\"\"\n",
    "\n",
    "    # Create DataFrame from path\n",
    "    df_f = create_df(file_index_number, \n",
    "                     file_list, \n",
    "                     file_dir)\n",
    "\n",
    "    #Print File index number\n",
    "    print('File index number:')\n",
    "    print(file_n)\n",
    "\n",
    "    #Print File name\n",
    "    print('\\nFile name:')\n",
    "    print(file_list[file_n])\n",
    "\n",
    "    #Print column names\n",
    "    print('\\nColumns:')\n",
    "    print(*list(df_f.columns), sep='\\n')\n",
    "\n",
    "    #Print shape of the DataFrame\n",
    "    print('\\nShape:')\n",
    "#    print(df_f.shape)\n",
    "    print(\"n_rows:\\t{:,}\".format(df_f.shape[0]))\n",
    "    print(\"n_cols:\\t{:,}\".format(df_f.shape[1]))\n",
    "\n",
    "    #Display head of the DataFrame\n",
    "    print('\\nHead:')\n",
    "    display(df_f.head())"
   ]
  },
  {
   "cell_type": "markdown",
   "metadata": {},
   "source": [
    "## 1. Can the data can fit into local memory?\n",
    "\n",
    "\n",
    "+ total: total physical memory.\n",
    "+ available: the memory that can be given instantly to processes without the system going into swap. This is calculated by summing different memory values depending on the platform and it is supposed to be used to monitor actual memory usage in a cross platform fashion.\n",
    "\n",
    "+ free: memory not being used at all (zeroed) that is readily available; note that this doesn’t reflect the actual memory available (use available instead). total - used does not necessarily match free.\n",
    "\n",
    "https://pythonhosted.org/psutil/"
   ]
  },
  {
   "cell_type": "code",
   "execution_count": 7,
   "metadata": {},
   "outputs": [
    {
     "name": "stdout",
     "output_type": "stream",
     "text": [
      "Total physical memory:\t 4.00 GB\n",
      "Available memory:\t 1013.64 MB\n",
      "Free memory:\t\t 14.41 MB\n"
     ]
    }
   ],
   "source": [
    "mem = virtual_memory()\n",
    "\n",
    "print('Total physical memory:\\t', format_bytes_size(mem.total))\n",
    "print('Available memory:\\t', format_bytes_size(mem.available))\n",
    "print('Free memory:\\t\\t', format_bytes_size(mem.free))\n",
    "\n",
    "#format_bytes_size(new_df.loc['Total', 'size_int'])"
   ]
  },
  {
   "cell_type": "code",
   "execution_count": 8,
   "metadata": {},
   "outputs": [
    {
     "data": {
      "text/html": [
       "<div>\n",
       "<style>\n",
       "    .dataframe thead tr:only-child th {\n",
       "        text-align: right;\n",
       "    }\n",
       "\n",
       "    .dataframe thead th {\n",
       "        text-align: left;\n",
       "    }\n",
       "\n",
       "    .dataframe tbody tr th {\n",
       "        vertical-align: top;\n",
       "    }\n",
       "</style>\n",
       "<table border=\"1\" class=\"dataframe\">\n",
       "  <thead>\n",
       "    <tr style=\"text-align: right;\">\n",
       "      <th></th>\n",
       "      <th>file_name</th>\n",
       "      <th>shape</th>\n",
       "      <th>size_int</th>\n",
       "      <th>size_str</th>\n",
       "    </tr>\n",
       "    <tr>\n",
       "      <th>n</th>\n",
       "      <th></th>\n",
       "      <th></th>\n",
       "      <th></th>\n",
       "      <th></th>\n",
       "    </tr>\n",
       "  </thead>\n",
       "  <tbody>\n",
       "    <tr>\n",
       "      <th>0</th>\n",
       "      <td>aisles.csv</td>\n",
       "      <td>(134, 2)</td>\n",
       "      <td>10840</td>\n",
       "      <td>10.59 kB</td>\n",
       "    </tr>\n",
       "    <tr>\n",
       "      <th>1</th>\n",
       "      <td>departments.csv</td>\n",
       "      <td>(21, 2)</td>\n",
       "      <td>1639</td>\n",
       "      <td>1.60 kB</td>\n",
       "    </tr>\n",
       "    <tr>\n",
       "      <th>2</th>\n",
       "      <td>order_products__prior.csv</td>\n",
       "      <td>(32434489, 4)</td>\n",
       "      <td>1037903752</td>\n",
       "      <td>989.82 MB</td>\n",
       "    </tr>\n",
       "    <tr>\n",
       "      <th>3</th>\n",
       "      <td>order_products__train.csv</td>\n",
       "      <td>(1384617, 4)</td>\n",
       "      <td>44307848</td>\n",
       "      <td>42.26 MB</td>\n",
       "    </tr>\n",
       "    <tr>\n",
       "      <th>4</th>\n",
       "      <td>orders.csv</td>\n",
       "      <td>(3421083, 7)</td>\n",
       "      <td>376244234</td>\n",
       "      <td>358.81 MB</td>\n",
       "    </tr>\n",
       "    <tr>\n",
       "      <th>5</th>\n",
       "      <td>products.csv</td>\n",
       "      <td>(49688, 4)</td>\n",
       "      <td>5568387</td>\n",
       "      <td>5.31 MB</td>\n",
       "    </tr>\n",
       "    <tr>\n",
       "      <th>Total</th>\n",
       "      <td></td>\n",
       "      <td></td>\n",
       "      <td>1464036700</td>\n",
       "      <td>1.36 GB</td>\n",
       "    </tr>\n",
       "  </tbody>\n",
       "</table>\n",
       "</div>"
      ],
      "text/plain": [
       "                       file_name          shape    size_int   size_str\n",
       "n                                                                     \n",
       "0                     aisles.csv       (134, 2)       10840   10.59 kB\n",
       "1                departments.csv        (21, 2)        1639    1.60 kB\n",
       "2      order_products__prior.csv  (32434489, 4)  1037903752  989.82 MB\n",
       "3      order_products__train.csv   (1384617, 4)    44307848   42.26 MB\n",
       "4                     orders.csv   (3421083, 7)   376244234  358.81 MB\n",
       "5                   products.csv     (49688, 4)     5568387    5.31 MB\n",
       "Total                                            1464036700    1.36 GB"
      ]
     },
     "execution_count": 8,
     "metadata": {},
     "output_type": "execute_result"
    }
   ],
   "source": [
    "\n",
    "i_list = []\n",
    "file_name_list = []\n",
    "shape_list = []\n",
    "size_list = []\n",
    "size_str_list = []\n",
    "\n",
    "for i, f in enumerate(raw_data_files):\n",
    "    raw_data_path_f = os.path.join(raw_data_dir, f)\n",
    "\n",
    "    df_f = pd.read_csv(raw_data_path_f)\n",
    "    \n",
    "    i_list.append(i)\n",
    "    file_name_list.append(f)\n",
    "    shape_list.append(df_f.shape)\n",
    "    size_list.append(sys.getsizeof(df_f))\n",
    "    size_str_list.append(format_bytes_size(sys.getsizeof(df_f)))\n",
    "\n",
    "    # Clear the DataFrame object from memory\n",
    "    del df_f\n",
    "\n",
    "files_dict = {'n' : i_list,\n",
    "              'file_name' : file_name_list,\n",
    "              'shape' : shape_list,\n",
    "              'size_int' : size_list,\n",
    "              'size_str' : size_str_list}\n",
    "\n",
    "\n",
    "size_df = pd.DataFrame(files_dict)\n",
    "size_df.set_index('n', inplace=True)\n",
    "\n",
    "total_size = size_df.size_int.sum()\n",
    "\n",
    "size_df.loc['Total']= ['', '', total_size, format_bytes_size(total_size)]\n",
    "\n",
    "size_df"
   ]
  },
  {
   "cell_type": "code",
   "execution_count": null,
   "metadata": {
    "collapsed": true
   },
   "outputs": [],
   "source": []
  },
  {
   "cell_type": "code",
   "execution_count": null,
   "metadata": {
    "collapsed": true
   },
   "outputs": [],
   "source": []
  },
  {
   "cell_type": "code",
   "execution_count": null,
   "metadata": {
    "collapsed": true
   },
   "outputs": [],
   "source": []
  },
  {
   "cell_type": "code",
   "execution_count": null,
   "metadata": {
    "collapsed": true
   },
   "outputs": [],
   "source": []
  },
  {
   "cell_type": "code",
   "execution_count": 9,
   "metadata": {
    "scrolled": true
   },
   "outputs": [
    {
     "data": {
      "text/html": [
       "<div>\n",
       "<style>\n",
       "    .dataframe thead tr:only-child th {\n",
       "        text-align: right;\n",
       "    }\n",
       "\n",
       "    .dataframe thead th {\n",
       "        text-align: left;\n",
       "    }\n",
       "\n",
       "    .dataframe tbody tr th {\n",
       "        vertical-align: top;\n",
       "    }\n",
       "</style>\n",
       "<table border=\"1\" class=\"dataframe\">\n",
       "  <thead>\n",
       "    <tr style=\"text-align: right;\">\n",
       "      <th></th>\n",
       "      <th>file_name</th>\n",
       "      <th>shape</th>\n",
       "      <th>size_int</th>\n",
       "      <th>size_str</th>\n",
       "    </tr>\n",
       "    <tr>\n",
       "      <th>n</th>\n",
       "      <th></th>\n",
       "      <th></th>\n",
       "      <th></th>\n",
       "      <th></th>\n",
       "    </tr>\n",
       "  </thead>\n",
       "  <tbody>\n",
       "    <tr>\n",
       "      <th>0</th>\n",
       "      <td>aisles.csv</td>\n",
       "      <td>(134, 2)</td>\n",
       "      <td>10840</td>\n",
       "      <td>10.59 kB</td>\n",
       "    </tr>\n",
       "    <tr>\n",
       "      <th>1</th>\n",
       "      <td>departments.csv</td>\n",
       "      <td>(21, 2)</td>\n",
       "      <td>1639</td>\n",
       "      <td>1.60 kB</td>\n",
       "    </tr>\n",
       "    <tr>\n",
       "      <th>2</th>\n",
       "      <td>order_products__prior.csv</td>\n",
       "      <td>(32434489, 4)</td>\n",
       "      <td>1037903752</td>\n",
       "      <td>989.82 MB</td>\n",
       "    </tr>\n",
       "    <tr>\n",
       "      <th>3</th>\n",
       "      <td>order_products__train.csv</td>\n",
       "      <td>(1384617, 4)</td>\n",
       "      <td>44307848</td>\n",
       "      <td>42.26 MB</td>\n",
       "    </tr>\n",
       "    <tr>\n",
       "      <th>4</th>\n",
       "      <td>orders.csv</td>\n",
       "      <td>(3421083, 7)</td>\n",
       "      <td>376244234</td>\n",
       "      <td>358.81 MB</td>\n",
       "    </tr>\n",
       "    <tr>\n",
       "      <th>5</th>\n",
       "      <td>products.csv</td>\n",
       "      <td>(49688, 4)</td>\n",
       "      <td>5568387</td>\n",
       "      <td>5.31 MB</td>\n",
       "    </tr>\n",
       "    <tr>\n",
       "      <th>Total</th>\n",
       "      <td></td>\n",
       "      <td></td>\n",
       "      <td>1464036700</td>\n",
       "      <td>1.36 GB</td>\n",
       "    </tr>\n",
       "  </tbody>\n",
       "</table>\n",
       "</div>"
      ],
      "text/plain": [
       "                       file_name          shape    size_int   size_str\n",
       "n                                                                     \n",
       "0                     aisles.csv       (134, 2)       10840   10.59 kB\n",
       "1                departments.csv        (21, 2)        1639    1.60 kB\n",
       "2      order_products__prior.csv  (32434489, 4)  1037903752  989.82 MB\n",
       "3      order_products__train.csv   (1384617, 4)    44307848   42.26 MB\n",
       "4                     orders.csv   (3421083, 7)   376244234  358.81 MB\n",
       "5                   products.csv     (49688, 4)     5568387    5.31 MB\n",
       "Total                                            1464036700    1.36 GB"
      ]
     },
     "execution_count": 9,
     "metadata": {},
     "output_type": "execute_result"
    }
   ],
   "source": [
    "size_df = pd.DataFrame(files_dict)\n",
    "size_df.set_index('n', inplace=True)\n",
    "\n",
    "total_size = size_df.size_int.sum()\n",
    "\n",
    "size_df.loc['Total']= ['', '', total_size, format_bytes_size(total_size)]\n",
    "\n",
    "size_df"
   ]
  },
  {
   "cell_type": "code",
   "execution_count": null,
   "metadata": {
    "collapsed": true
   },
   "outputs": [],
   "source": []
  },
  {
   "cell_type": "code",
   "execution_count": null,
   "metadata": {},
   "outputs": [],
   "source": []
  },
  {
   "cell_type": "code",
   "execution_count": 10,
   "metadata": {},
   "outputs": [
    {
     "data": {
      "text/plain": [
       "svmem(total=4294967296, available=1159933952, percent=73.0, used=2878214144, free=296284160, active=857952256, inactive=863649792, wired=1156612096)"
      ]
     },
     "execution_count": 10,
     "metadata": {},
     "output_type": "execute_result"
    }
   ],
   "source": [
    "mem = virtual_memory()\n",
    "mem"
   ]
  },
  {
   "cell_type": "markdown",
   "metadata": {},
   "source": [
    "+ Free: This is the amount of RAM that's not being used.\n",
    "+ Wired: Information in RAM that can't be moved to the Mac's drive. The amount of Wired memory depends on the applications you are using.\n",
    "+ Active: This information is in RAM and has recently been used.\n",
    "+ Inactive: This information is in RAM but isn't actively being used, though it was recently used. For example, if you've been using Mail and then quit it, the RAM that Mail was using is marked as Inactive memory. Inactive memory is available for use by another application, just like free memory. However, if you open Mail before its inactive memory is used by a different application, Mail will open quicker because its inactive memory is converted to active memory, instead of loading it from the slower drive.\n",
    "+ Used: This is the total amount of RAM used.\n",
    "\n",
    "[source](https://support.apple.com/en-us/HT201538)"
   ]
  },
  {
   "cell_type": "markdown",
   "metadata": {},
   "source": [
    "\n",
    "+ total: total physical memory.\n",
    "+ available: the memory that can be given instantly to processes without the system going into swap. This is calculated by summing different memory values depending on the platform and it is supposed to be used to monitor actual memory usage in a cross platform fashion.\n",
    "\n",
    "+ free: memory not being used at all (zeroed) that is readily available; note that this doesn’t reflect the actual memory available (use available instead). total - used does not necessarily match free.\n",
    "\n",
    "https://pythonhosted.org/psutil/"
   ]
  },
  {
   "cell_type": "code",
   "execution_count": 11,
   "metadata": {},
   "outputs": [
    {
     "name": "stdout",
     "output_type": "stream",
     "text": [
      "Total physical memory:\t 4.00 GB\n",
      "Available memory:\t 1.08 GB\n",
      "Free memory:\t\t 282.56 MB\n"
     ]
    }
   ],
   "source": [
    "print('Total physical memory:\\t', format_bytes_size(mem.total))\n",
    "print('Available memory:\\t', format_bytes_size(mem.available))\n",
    "print('Free memory:\\t\\t', format_bytes_size(mem.free))"
   ]
  },
  {
   "cell_type": "code",
   "execution_count": 12,
   "metadata": {},
   "outputs": [
    {
     "data": {
      "text/plain": [
       "'1.36 GB'"
      ]
     },
     "execution_count": 12,
     "metadata": {},
     "output_type": "execute_result"
    }
   ],
   "source": [
    "format_bytes_size(size_df.loc['Total', 'size_int'])"
   ]
  },
  {
   "cell_type": "code",
   "execution_count": null,
   "metadata": {
    "collapsed": true
   },
   "outputs": [],
   "source": []
  },
  {
   "cell_type": "code",
   "execution_count": 13,
   "metadata": {},
   "outputs": [
    {
     "data": {
      "image/png": "[encoded data removed]",
      "text/plain": [
       "<matplotlib.figure.Figure at 0x1140e06d8>"
      ]
     },
     "metadata": {},
     "output_type": "display_data"
    }
   ],
   "source": [
    "\n",
    "labels = ['free',\n",
    "          'wired',\n",
    "          'active',\n",
    "          'inactive',\n",
    "          'used']\n",
    "\n",
    "sizes = [mem.free,\n",
    "         mem.wired,\n",
    "         mem.active,\n",
    "         mem.inactive,\n",
    "         mem.used]\n",
    "\n",
    "#colors = ['yellowgreen', 'gold', 'lightskyblue', 'lightcoral']\n",
    "#patches, texts = plt.pie(sizes, colors=colors, shadow=True, startangle=90)\n",
    "patches, texts = plt.pie(sizes,  shadow=False, startangle=90)\n",
    "plt.legend(patches, labels, loc=\"best\")\n",
    "plt.axis('equal')\n",
    "plt.tight_layout()\n",
    "plt.show()"
   ]
  },
  {
   "cell_type": "code",
   "execution_count": null,
   "metadata": {
    "collapsed": true
   },
   "outputs": [],
   "source": []
  },
  {
   "cell_type": "code",
   "execution_count": null,
   "metadata": {
    "collapsed": true
   },
   "outputs": [],
   "source": []
  },
  {
   "cell_type": "markdown",
   "metadata": {
    "collapsed": true
   },
   "source": [
    "## 2.  Review the Data Description"
   ]
  },
  {
   "cell_type": "code",
   "execution_count": 14,
   "metadata": {},
   "outputs": [
    {
     "data": {
      "text/markdown": [
       "### Data Description\n",
       "\n",
       "`orders` (3.4m rows, 206k users):\n",
       "* `order_id`: order identifier\n",
       "* `user_id`: customer identifier\n",
       "* `eval_set`: which evaluation set this order belongs in (see `SET` described below)\n",
       "* `order_number`: the order sequence number for this user (1 = first, n = nth)\n",
       "* `order_dow`: the day of the week the order was placed on\n",
       "* `order_hour_of_day`: the hour of the day the order was placed on\n",
       "* `days_since_prior`: days since the last order, capped at 30 (with NAs for `order_number` = 1)\n",
       "\n",
       "`products` (50k rows):\n",
       "* `product_id`: product identifier\n",
       "* `product_name`: name of the product\n",
       "* `aisle_id`: foreign key\n",
       "* `department_id`: foreign key\n",
       "\n",
       "`aisles` (134 rows):\n",
       "* `aisle_id`: aisle identifier\n",
       "* `aisle`: the name of the aisle\n",
       "\n",
       "`deptartments` (21 rows):\n",
       "* `department_id`: department identifier\n",
       "* `department`: the name of the department\n",
       "\n",
       "`order_products__SET` (30m+ rows):\n",
       "* `order_id`: foreign key\n",
       "* `product_id`: foreign key\n",
       "* `add_to_cart_order`: order in which each product was added to cart\n",
       "* `reordered`: 1 if this product has been ordered by this user in the past, 0 otherwise\n",
       "\n",
       "where `SET` is one of the four following evaluation sets (`eval_set` in `orders`):\n",
       "* `\"prior\"`: orders prior to that users most recent order (~3.2m orders)\n",
       "* `\"train\"`: training data supplied to participants (~131k orders)\n",
       "* `\"test\"`: test data reserved for machine learning competitions (~75k orders)\n",
       "\n",
       "-----------------------------------\n",
       "\n",
       "See the original source of this data description [here](https://gist.github.com/jeremystan/c3b39d947d9b88b3ccff3147dbcf6c6b)."
      ],
      "text/plain": [
       "<IPython.core.display.Markdown object>"
      ]
     },
     "metadata": {},
     "output_type": "display_data"
    }
   ],
   "source": [
    "# Open data_description.md and display inline\n",
    "with open(data_description_file_path, 'r') as f:\n",
    "    content = f.read()\n",
    "display(Markdown(content))"
   ]
  },
  {
   "cell_type": "markdown",
   "metadata": {},
   "source": [
    "## 3. Conduct EDA on each of the raw data files."
   ]
  },
  {
   "cell_type": "code",
   "execution_count": null,
   "metadata": {
    "collapsed": true
   },
   "outputs": [],
   "source": []
  },
  {
   "cell_type": "code",
   "execution_count": 15,
   "metadata": {},
   "outputs": [
    {
     "data": {
      "text/plain": [
       "['aisles.csv',\n",
       " 'departments.csv',\n",
       " 'order_products__prior.csv',\n",
       " 'order_products__train.csv',\n",
       " 'orders.csv',\n",
       " 'products.csv']"
      ]
     },
     "execution_count": 15,
     "metadata": {},
     "output_type": "execute_result"
    }
   ],
   "source": [
    "# dir()\n",
    "raw_data_files"
   ]
  },
  {
   "cell_type": "code",
   "execution_count": 16,
   "metadata": {
    "scrolled": true
   },
   "outputs": [
    {
     "name": "stdout",
     "output_type": "stream",
     "text": [
      "File: aisles.csv\n",
      "aisle_id\n",
      "aisle\n",
      "\n",
      "\n",
      "File: departments.csv\n",
      "department_id\n",
      "department\n",
      "\n",
      "\n",
      "File: order_products__prior.csv\n",
      "order_id\n",
      "product_id\n",
      "add_to_cart_order\n",
      "reordered\n",
      "\n",
      "\n",
      "File: order_products__train.csv\n",
      "order_id\n",
      "product_id\n",
      "add_to_cart_order\n",
      "reordered\n",
      "\n",
      "\n",
      "File: orders.csv\n",
      "order_id\n",
      "user_id\n",
      "eval_set\n",
      "order_number\n",
      "order_dow\n",
      "order_hour_of_day\n",
      "days_since_prior_order\n",
      "\n",
      "\n",
      "File: products.csv\n",
      "product_id\n",
      "product_name\n",
      "aisle_id\n",
      "department_id\n",
      "\n",
      "\n"
     ]
    }
   ],
   "source": [
    "for i in range(len(raw_data_files)):\n",
    "    print('File:', raw_data_files[i])\n",
    "    df_n = create_df(i)\n",
    "    print(*list(df_n.columns), sep='\\n')\n",
    "    print('\\n')"
   ]
  },
  {
   "cell_type": "code",
   "execution_count": null,
   "metadata": {
    "collapsed": true
   },
   "outputs": [],
   "source": []
  },
  {
   "cell_type": "code",
   "execution_count": 17,
   "metadata": {},
   "outputs": [],
   "source": [
    "raw_data_files[5]\n",
    "df_n = create_df(5)"
   ]
  },
  {
   "cell_type": "code",
   "execution_count": 18,
   "metadata": {},
   "outputs": [
    {
     "data": {
      "text/plain": [
       "49688"
      ]
     },
     "execution_count": 18,
     "metadata": {},
     "output_type": "execute_result"
    }
   ],
   "source": [
    "len(df_n)"
   ]
  },
  {
   "cell_type": "code",
   "execution_count": 19,
   "metadata": {},
   "outputs": [
    {
     "data": {
      "text/plain": [
       "49688"
      ]
     },
     "execution_count": 19,
     "metadata": {},
     "output_type": "execute_result"
    }
   ],
   "source": [
    "len(df_n.product_id.unique())"
   ]
  },
  {
   "cell_type": "code",
   "execution_count": 20,
   "metadata": {},
   "outputs": [
    {
     "data": {
      "text/html": [
       "<div>\n",
       "<style>\n",
       "    .dataframe thead tr:only-child th {\n",
       "        text-align: right;\n",
       "    }\n",
       "\n",
       "    .dataframe thead th {\n",
       "        text-align: left;\n",
       "    }\n",
       "\n",
       "    .dataframe tbody tr th {\n",
       "        vertical-align: top;\n",
       "    }\n",
       "</style>\n",
       "<table border=\"1\" class=\"dataframe\">\n",
       "  <thead>\n",
       "    <tr style=\"text-align: right;\">\n",
       "      <th></th>\n",
       "      <th>product_id</th>\n",
       "      <th>product_name</th>\n",
       "      <th>aisle_id</th>\n",
       "      <th>department_id</th>\n",
       "    </tr>\n",
       "  </thead>\n",
       "  <tbody>\n",
       "    <tr>\n",
       "      <th>0</th>\n",
       "      <td>1</td>\n",
       "      <td>Chocolate Sandwich Cookies</td>\n",
       "      <td>61</td>\n",
       "      <td>19</td>\n",
       "    </tr>\n",
       "    <tr>\n",
       "      <th>1</th>\n",
       "      <td>2</td>\n",
       "      <td>All-Seasons Salt</td>\n",
       "      <td>104</td>\n",
       "      <td>13</td>\n",
       "    </tr>\n",
       "    <tr>\n",
       "      <th>2</th>\n",
       "      <td>3</td>\n",
       "      <td>Robust Golden Unsweetened Oolong Tea</td>\n",
       "      <td>94</td>\n",
       "      <td>7</td>\n",
       "    </tr>\n",
       "    <tr>\n",
       "      <th>3</th>\n",
       "      <td>4</td>\n",
       "      <td>Smart Ones Classic Favorites Mini Rigatoni Wit...</td>\n",
       "      <td>38</td>\n",
       "      <td>1</td>\n",
       "    </tr>\n",
       "    <tr>\n",
       "      <th>4</th>\n",
       "      <td>5</td>\n",
       "      <td>Green Chile Anytime Sauce</td>\n",
       "      <td>5</td>\n",
       "      <td>13</td>\n",
       "    </tr>\n",
       "  </tbody>\n",
       "</table>\n",
       "</div>"
      ],
      "text/plain": [
       "   product_id                                       product_name  aisle_id  \\\n",
       "0           1                         Chocolate Sandwich Cookies        61   \n",
       "1           2                                   All-Seasons Salt       104   \n",
       "2           3               Robust Golden Unsweetened Oolong Tea        94   \n",
       "3           4  Smart Ones Classic Favorites Mini Rigatoni Wit...        38   \n",
       "4           5                          Green Chile Anytime Sauce         5   \n",
       "\n",
       "   department_id  \n",
       "0             19  \n",
       "1             13  \n",
       "2              7  \n",
       "3              1  \n",
       "4             13  "
      ]
     },
     "execution_count": 20,
     "metadata": {},
     "output_type": "execute_result"
    }
   ],
   "source": [
    "df_n.head()"
   ]
  },
  {
   "cell_type": "code",
   "execution_count": null,
   "metadata": {
    "collapsed": true
   },
   "outputs": [],
   "source": []
  },
  {
   "cell_type": "code",
   "execution_count": null,
   "metadata": {
    "collapsed": true
   },
   "outputs": [],
   "source": []
  },
  {
   "cell_type": "code",
   "execution_count": null,
   "metadata": {
    "collapsed": true
   },
   "outputs": [],
   "source": []
  },
  {
   "cell_type": "code",
   "execution_count": null,
   "metadata": {
    "collapsed": true
   },
   "outputs": [],
   "source": []
  },
  {
   "cell_type": "code",
   "execution_count": null,
   "metadata": {
    "collapsed": true
   },
   "outputs": [],
   "source": []
  },
  {
   "cell_type": "code",
   "execution_count": null,
   "metadata": {
    "collapsed": true
   },
   "outputs": [],
   "source": []
  },
  {
   "cell_type": "code",
   "execution_count": null,
   "metadata": {
    "collapsed": true
   },
   "outputs": [],
   "source": []
  },
  {
   "cell_type": "code",
   "execution_count": null,
   "metadata": {
    "collapsed": true
   },
   "outputs": [],
   "source": []
  },
  {
   "cell_type": "code",
   "execution_count": null,
   "metadata": {
    "collapsed": true
   },
   "outputs": [],
   "source": []
  },
  {
   "cell_type": "code",
   "execution_count": null,
   "metadata": {
    "collapsed": true
   },
   "outputs": [],
   "source": []
  },
  {
   "cell_type": "code",
   "execution_count": 21,
   "metadata": {},
   "outputs": [
    {
     "data": {
      "text/plain": [
       "'orders.csv'"
      ]
     },
     "execution_count": 21,
     "metadata": {},
     "output_type": "execute_result"
    }
   ],
   "source": [
    "raw_data_files[4]"
   ]
  },
  {
   "cell_type": "code",
   "execution_count": 22,
   "metadata": {
    "collapsed": true
   },
   "outputs": [],
   "source": [
    "df_n = create_df(4)"
   ]
  },
  {
   "cell_type": "code",
   "execution_count": 23,
   "metadata": {},
   "outputs": [
    {
     "data": {
      "text/plain": [
       "3421083"
      ]
     },
     "execution_count": 23,
     "metadata": {},
     "output_type": "execute_result"
    }
   ],
   "source": [
    "len(df_n)"
   ]
  },
  {
   "cell_type": "code",
   "execution_count": 24,
   "metadata": {},
   "outputs": [
    {
     "data": {
      "text/html": [
       "<div>\n",
       "<style>\n",
       "    .dataframe thead tr:only-child th {\n",
       "        text-align: right;\n",
       "    }\n",
       "\n",
       "    .dataframe thead th {\n",
       "        text-align: left;\n",
       "    }\n",
       "\n",
       "    .dataframe tbody tr th {\n",
       "        vertical-align: top;\n",
       "    }\n",
       "</style>\n",
       "<table border=\"1\" class=\"dataframe\">\n",
       "  <thead>\n",
       "    <tr style=\"text-align: right;\">\n",
       "      <th></th>\n",
       "      <th>order_id</th>\n",
       "      <th>user_id</th>\n",
       "      <th>eval_set</th>\n",
       "      <th>order_number</th>\n",
       "      <th>order_dow</th>\n",
       "      <th>order_hour_of_day</th>\n",
       "      <th>days_since_prior_order</th>\n",
       "    </tr>\n",
       "  </thead>\n",
       "  <tbody>\n",
       "    <tr>\n",
       "      <th>0</th>\n",
       "      <td>2539329</td>\n",
       "      <td>1</td>\n",
       "      <td>prior</td>\n",
       "      <td>1</td>\n",
       "      <td>2</td>\n",
       "      <td>8</td>\n",
       "      <td>NaN</td>\n",
       "    </tr>\n",
       "    <tr>\n",
       "      <th>1</th>\n",
       "      <td>2398795</td>\n",
       "      <td>1</td>\n",
       "      <td>prior</td>\n",
       "      <td>2</td>\n",
       "      <td>3</td>\n",
       "      <td>7</td>\n",
       "      <td>15.0</td>\n",
       "    </tr>\n",
       "    <tr>\n",
       "      <th>2</th>\n",
       "      <td>473747</td>\n",
       "      <td>1</td>\n",
       "      <td>prior</td>\n",
       "      <td>3</td>\n",
       "      <td>3</td>\n",
       "      <td>12</td>\n",
       "      <td>21.0</td>\n",
       "    </tr>\n",
       "    <tr>\n",
       "      <th>3</th>\n",
       "      <td>2254736</td>\n",
       "      <td>1</td>\n",
       "      <td>prior</td>\n",
       "      <td>4</td>\n",
       "      <td>4</td>\n",
       "      <td>7</td>\n",
       "      <td>29.0</td>\n",
       "    </tr>\n",
       "    <tr>\n",
       "      <th>4</th>\n",
       "      <td>431534</td>\n",
       "      <td>1</td>\n",
       "      <td>prior</td>\n",
       "      <td>5</td>\n",
       "      <td>4</td>\n",
       "      <td>15</td>\n",
       "      <td>28.0</td>\n",
       "    </tr>\n",
       "  </tbody>\n",
       "</table>\n",
       "</div>"
      ],
      "text/plain": [
       "   order_id  user_id eval_set  order_number  order_dow  order_hour_of_day  \\\n",
       "0   2539329        1    prior             1          2                  8   \n",
       "1   2398795        1    prior             2          3                  7   \n",
       "2    473747        1    prior             3          3                 12   \n",
       "3   2254736        1    prior             4          4                  7   \n",
       "4    431534        1    prior             5          4                 15   \n",
       "\n",
       "   days_since_prior_order  \n",
       "0                     NaN  \n",
       "1                    15.0  \n",
       "2                    21.0  \n",
       "3                    29.0  \n",
       "4                    28.0  "
      ]
     },
     "execution_count": 24,
     "metadata": {},
     "output_type": "execute_result"
    }
   ],
   "source": [
    "df_n.head()"
   ]
  },
  {
   "cell_type": "code",
   "execution_count": 25,
   "metadata": {},
   "outputs": [
    {
     "data": {
      "text/plain": [
       "prior    3214874\n",
       "train     131209\n",
       "test       75000\n",
       "Name: eval_set, dtype: int64"
      ]
     },
     "execution_count": 25,
     "metadata": {},
     "output_type": "execute_result"
    }
   ],
   "source": [
    "df_n.eval_set.value_counts()"
   ]
  },
  {
   "cell_type": "code",
   "execution_count": 26,
   "metadata": {},
   "outputs": [
    {
     "data": {
      "text/plain": [
       "99"
      ]
     },
     "execution_count": 26,
     "metadata": {},
     "output_type": "execute_result"
    }
   ],
   "source": [
    "df_n[df_n.eval_set == 'prior'].user_id.value_counts().max()"
   ]
  },
  {
   "cell_type": "code",
   "execution_count": 27,
   "metadata": {
    "scrolled": true
   },
   "outputs": [
    {
     "data": {
      "text/plain": [
       "1"
      ]
     },
     "execution_count": 27,
     "metadata": {},
     "output_type": "execute_result"
    }
   ],
   "source": [
    "df_n[df_n.eval_set == 'test'].user_id.value_counts().max()"
   ]
  },
  {
   "cell_type": "code",
   "execution_count": 28,
   "metadata": {
    "scrolled": true
   },
   "outputs": [
    {
     "data": {
      "text/plain": [
       "1"
      ]
     },
     "execution_count": 28,
     "metadata": {},
     "output_type": "execute_result"
    }
   ],
   "source": [
    "df_n[df_n.eval_set == 'train'].user_id.value_counts().max()"
   ]
  },
  {
   "cell_type": "code",
   "execution_count": 29,
   "metadata": {
    "collapsed": true
   },
   "outputs": [],
   "source": [
    "user_id_set_prior = set(df_n[df_n.eval_set == 'prior'].user_id)"
   ]
  },
  {
   "cell_type": "code",
   "execution_count": 30,
   "metadata": {},
   "outputs": [],
   "source": [
    "user_id_set_test = set(df_n[df_n.eval_set == 'test'].user_id)"
   ]
  },
  {
   "cell_type": "code",
   "execution_count": 31,
   "metadata": {
    "collapsed": true
   },
   "outputs": [],
   "source": [
    "user_id_set_train = set(df_n[df_n.eval_set == 'train'].user_id)"
   ]
  },
  {
   "cell_type": "code",
   "execution_count": 32,
   "metadata": {},
   "outputs": [
    {
     "data": {
      "text/plain": [
       "0"
      ]
     },
     "execution_count": 32,
     "metadata": {},
     "output_type": "execute_result"
    }
   ],
   "source": [
    "len(user_id_set_test.intersection(user_id_set_train))"
   ]
  },
  {
   "cell_type": "code",
   "execution_count": 33,
   "metadata": {},
   "outputs": [
    {
     "data": {
      "text/plain": [
       "75000"
      ]
     },
     "execution_count": 33,
     "metadata": {},
     "output_type": "execute_result"
    }
   ],
   "source": [
    "len(user_id_set_prior.intersection(user_id_set_test))"
   ]
  },
  {
   "cell_type": "code",
   "execution_count": 34,
   "metadata": {},
   "outputs": [
    {
     "data": {
      "text/plain": [
       "131209"
      ]
     },
     "execution_count": 34,
     "metadata": {},
     "output_type": "execute_result"
    }
   ],
   "source": [
    "len(user_id_set_prior.intersection(user_id_set_train))"
   ]
  },
  {
   "cell_type": "code",
   "execution_count": null,
   "metadata": {
    "collapsed": true
   },
   "outputs": [],
   "source": []
  },
  {
   "cell_type": "code",
   "execution_count": null,
   "metadata": {
    "collapsed": true
   },
   "outputs": [],
   "source": []
  },
  {
   "cell_type": "code",
   "execution_count": null,
   "metadata": {
    "collapsed": true
   },
   "outputs": [],
   "source": []
  },
  {
   "cell_type": "code",
   "execution_count": null,
   "metadata": {
    "collapsed": true
   },
   "outputs": [],
   "source": []
  },
  {
   "cell_type": "code",
   "execution_count": null,
   "metadata": {
    "collapsed": true
   },
   "outputs": [],
   "source": []
  },
  {
   "cell_type": "markdown",
   "metadata": {},
   "source": [
    "### aisles.csv - EDA"
   ]
  },
  {
   "cell_type": "code",
   "execution_count": 35,
   "metadata": {},
   "outputs": [
    {
     "name": "stdout",
     "output_type": "stream",
     "text": [
      "File index number:\n",
      "0\n",
      "\n",
      "File name:\n",
      "aisles.csv\n",
      "\n",
      "Columns:\n",
      "aisle_id\n",
      "aisle\n",
      "\n",
      "Shape:\n",
      "n_rows:\t134\n",
      "n_cols:\t2\n",
      "\n",
      "Head:\n"
     ]
    },
    {
     "data": {
      "text/html": [
       "<div>\n",
       "<style>\n",
       "    .dataframe thead tr:only-child th {\n",
       "        text-align: right;\n",
       "    }\n",
       "\n",
       "    .dataframe thead th {\n",
       "        text-align: left;\n",
       "    }\n",
       "\n",
       "    .dataframe tbody tr th {\n",
       "        vertical-align: top;\n",
       "    }\n",
       "</style>\n",
       "<table border=\"1\" class=\"dataframe\">\n",
       "  <thead>\n",
       "    <tr style=\"text-align: right;\">\n",
       "      <th></th>\n",
       "      <th>aisle_id</th>\n",
       "      <th>aisle</th>\n",
       "    </tr>\n",
       "  </thead>\n",
       "  <tbody>\n",
       "    <tr>\n",
       "      <th>0</th>\n",
       "      <td>1</td>\n",
       "      <td>prepared soups salads</td>\n",
       "    </tr>\n",
       "    <tr>\n",
       "      <th>1</th>\n",
       "      <td>2</td>\n",
       "      <td>specialty cheeses</td>\n",
       "    </tr>\n",
       "    <tr>\n",
       "      <th>2</th>\n",
       "      <td>3</td>\n",
       "      <td>energy granola bars</td>\n",
       "    </tr>\n",
       "    <tr>\n",
       "      <th>3</th>\n",
       "      <td>4</td>\n",
       "      <td>instant foods</td>\n",
       "    </tr>\n",
       "    <tr>\n",
       "      <th>4</th>\n",
       "      <td>5</td>\n",
       "      <td>marinades meat preparation</td>\n",
       "    </tr>\n",
       "  </tbody>\n",
       "</table>\n",
       "</div>"
      ],
      "text/plain": [
       "   aisle_id                       aisle\n",
       "0         1       prepared soups salads\n",
       "1         2           specialty cheeses\n",
       "2         3         energy granola bars\n",
       "3         4               instant foods\n",
       "4         5  marinades meat preparation"
      ]
     },
     "metadata": {},
     "output_type": "display_data"
    }
   ],
   "source": [
    "file_n = 0\n",
    "preview_df(file_n)\n",
    "df_n = create_df(file_n)"
   ]
  },
  {
   "cell_type": "code",
   "execution_count": 36,
   "metadata": {},
   "outputs": [
    {
     "name": "stdout",
     "output_type": "stream",
     "text": [
      "len - all:\t\t 134\n",
      "len - unique aisle :\t 134\n",
      "len - unique aisle_id:\t 134\n"
     ]
    }
   ],
   "source": [
    "print('len - all:\\t\\t', len(df_n))\n",
    "print('len - unique aisle :\\t', len(df_n.aisle.unique()))\n",
    "print('len - unique aisle_id:\\t', len(df_n.aisle_id.unique()))"
   ]
  },
  {
   "cell_type": "markdown",
   "metadata": {},
   "source": [
    "### departments.csv - EDA"
   ]
  },
  {
   "cell_type": "code",
   "execution_count": 37,
   "metadata": {},
   "outputs": [
    {
     "name": "stdout",
     "output_type": "stream",
     "text": [
      "File index number:\n",
      "1\n",
      "\n",
      "File name:\n",
      "departments.csv\n",
      "\n",
      "Columns:\n",
      "department_id\n",
      "department\n",
      "\n",
      "Shape:\n",
      "n_rows:\t21\n",
      "n_cols:\t2\n",
      "\n",
      "Head:\n"
     ]
    },
    {
     "data": {
      "text/html": [
       "<div>\n",
       "<style>\n",
       "    .dataframe thead tr:only-child th {\n",
       "        text-align: right;\n",
       "    }\n",
       "\n",
       "    .dataframe thead th {\n",
       "        text-align: left;\n",
       "    }\n",
       "\n",
       "    .dataframe tbody tr th {\n",
       "        vertical-align: top;\n",
       "    }\n",
       "</style>\n",
       "<table border=\"1\" class=\"dataframe\">\n",
       "  <thead>\n",
       "    <tr style=\"text-align: right;\">\n",
       "      <th></th>\n",
       "      <th>department_id</th>\n",
       "      <th>department</th>\n",
       "    </tr>\n",
       "  </thead>\n",
       "  <tbody>\n",
       "    <tr>\n",
       "      <th>0</th>\n",
       "      <td>1</td>\n",
       "      <td>frozen</td>\n",
       "    </tr>\n",
       "    <tr>\n",
       "      <th>1</th>\n",
       "      <td>2</td>\n",
       "      <td>other</td>\n",
       "    </tr>\n",
       "    <tr>\n",
       "      <th>2</th>\n",
       "      <td>3</td>\n",
       "      <td>bakery</td>\n",
       "    </tr>\n",
       "    <tr>\n",
       "      <th>3</th>\n",
       "      <td>4</td>\n",
       "      <td>produce</td>\n",
       "    </tr>\n",
       "    <tr>\n",
       "      <th>4</th>\n",
       "      <td>5</td>\n",
       "      <td>alcohol</td>\n",
       "    </tr>\n",
       "  </tbody>\n",
       "</table>\n",
       "</div>"
      ],
      "text/plain": [
       "   department_id department\n",
       "0              1     frozen\n",
       "1              2      other\n",
       "2              3     bakery\n",
       "3              4    produce\n",
       "4              5    alcohol"
      ]
     },
     "metadata": {},
     "output_type": "display_data"
    }
   ],
   "source": [
    "file_n = 1\n",
    "preview_df(file_n)\n",
    "df_n = create_df(file_n)"
   ]
  },
  {
   "cell_type": "code",
   "execution_count": 38,
   "metadata": {},
   "outputs": [
    {
     "name": "stdout",
     "output_type": "stream",
     "text": [
      "len - all:\t\t\t 21\n",
      "len - unique department:\t 21\n",
      "len - unique department_id:\t 21\n"
     ]
    }
   ],
   "source": [
    "print('len - all:\\t\\t\\t', len(df_n))\n",
    "print('len - unique department:\\t', len(df_n.department.unique()))\n",
    "print('len - unique department_id:\\t', len(df_n.department_id.unique()))"
   ]
  },
  {
   "cell_type": "markdown",
   "metadata": {},
   "source": [
    "### order_products__prior.csv - EDA"
   ]
  },
  {
   "cell_type": "code",
   "execution_count": 39,
   "metadata": {},
   "outputs": [
    {
     "name": "stdout",
     "output_type": "stream",
     "text": [
      "File index number:\n",
      "2\n",
      "\n",
      "File name:\n",
      "order_products__prior.csv\n",
      "\n",
      "Columns:\n",
      "order_id\n",
      "product_id\n",
      "add_to_cart_order\n",
      "reordered\n",
      "\n",
      "Shape:\n",
      "n_rows:\t32,434,489\n",
      "n_cols:\t4\n",
      "\n",
      "Head:\n"
     ]
    },
    {
     "data": {
      "text/html": [
       "<div>\n",
       "<style>\n",
       "    .dataframe thead tr:only-child th {\n",
       "        text-align: right;\n",
       "    }\n",
       "\n",
       "    .dataframe thead th {\n",
       "        text-align: left;\n",
       "    }\n",
       "\n",
       "    .dataframe tbody tr th {\n",
       "        vertical-align: top;\n",
       "    }\n",
       "</style>\n",
       "<table border=\"1\" class=\"dataframe\">\n",
       "  <thead>\n",
       "    <tr style=\"text-align: right;\">\n",
       "      <th></th>\n",
       "      <th>order_id</th>\n",
       "      <th>product_id</th>\n",
       "      <th>add_to_cart_order</th>\n",
       "      <th>reordered</th>\n",
       "    </tr>\n",
       "  </thead>\n",
       "  <tbody>\n",
       "    <tr>\n",
       "      <th>0</th>\n",
       "      <td>2</td>\n",
       "      <td>33120</td>\n",
       "      <td>1</td>\n",
       "      <td>1</td>\n",
       "    </tr>\n",
       "    <tr>\n",
       "      <th>1</th>\n",
       "      <td>2</td>\n",
       "      <td>28985</td>\n",
       "      <td>2</td>\n",
       "      <td>1</td>\n",
       "    </tr>\n",
       "    <tr>\n",
       "      <th>2</th>\n",
       "      <td>2</td>\n",
       "      <td>9327</td>\n",
       "      <td>3</td>\n",
       "      <td>0</td>\n",
       "    </tr>\n",
       "    <tr>\n",
       "      <th>3</th>\n",
       "      <td>2</td>\n",
       "      <td>45918</td>\n",
       "      <td>4</td>\n",
       "      <td>1</td>\n",
       "    </tr>\n",
       "    <tr>\n",
       "      <th>4</th>\n",
       "      <td>2</td>\n",
       "      <td>30035</td>\n",
       "      <td>5</td>\n",
       "      <td>0</td>\n",
       "    </tr>\n",
       "  </tbody>\n",
       "</table>\n",
       "</div>"
      ],
      "text/plain": [
       "   order_id  product_id  add_to_cart_order  reordered\n",
       "0         2       33120                  1          1\n",
       "1         2       28985                  2          1\n",
       "2         2        9327                  3          0\n",
       "3         2       45918                  4          1\n",
       "4         2       30035                  5          0"
      ]
     },
     "metadata": {},
     "output_type": "display_data"
    }
   ],
   "source": [
    "file_n = 2\n",
    "preview_df(file_n)\n",
    "df_n = create_df(file_n)"
   ]
  },
  {
   "cell_type": "code",
   "execution_count": 40,
   "metadata": {},
   "outputs": [
    {
     "name": "stdout",
     "output_type": "stream",
     "text": [
      "len - all:\t\t\t 32434489\n",
      "len - unique order_id:\t\t 3214874\n",
      "len - unique product_id:\t 49677\n",
      "len - unique add_to_cart_order:\t 145\n",
      "len - unique reordered:\t\t 2\n"
     ]
    }
   ],
   "source": [
    "print('len - all:\\t\\t\\t', len(df_n))\n",
    "print('len - unique order_id:\\t\\t', len(df_n.order_id.unique()))\n",
    "print('len - unique product_id:\\t', len(df_n.product_id.unique()))\n",
    "print('len - unique add_to_cart_order:\\t', \n",
    "      len(df_n.add_to_cart_order.unique()))\n",
    "print('len - unique reordered:\\t\\t', len(df_n.reordered.unique()))"
   ]
  },
  {
   "cell_type": "code",
   "execution_count": null,
   "metadata": {
    "collapsed": true
   },
   "outputs": [],
   "source": []
  },
  {
   "cell_type": "markdown",
   "metadata": {},
   "source": [
    "### order_products__train.csv -EDA"
   ]
  },
  {
   "cell_type": "code",
   "execution_count": 41,
   "metadata": {},
   "outputs": [
    {
     "name": "stdout",
     "output_type": "stream",
     "text": [
      "File index number:\n",
      "3\n",
      "\n",
      "File name:\n",
      "order_products__train.csv\n",
      "\n",
      "Columns:\n",
      "order_id\n",
      "product_id\n",
      "add_to_cart_order\n",
      "reordered\n",
      "\n",
      "Shape:\n",
      "n_rows:\t1,384,617\n",
      "n_cols:\t4\n",
      "\n",
      "Head:\n"
     ]
    },
    {
     "data": {
      "text/html": [
       "<div>\n",
       "<style>\n",
       "    .dataframe thead tr:only-child th {\n",
       "        text-align: right;\n",
       "    }\n",
       "\n",
       "    .dataframe thead th {\n",
       "        text-align: left;\n",
       "    }\n",
       "\n",
       "    .dataframe tbody tr th {\n",
       "        vertical-align: top;\n",
       "    }\n",
       "</style>\n",
       "<table border=\"1\" class=\"dataframe\">\n",
       "  <thead>\n",
       "    <tr style=\"text-align: right;\">\n",
       "      <th></th>\n",
       "      <th>order_id</th>\n",
       "      <th>product_id</th>\n",
       "      <th>add_to_cart_order</th>\n",
       "      <th>reordered</th>\n",
       "    </tr>\n",
       "  </thead>\n",
       "  <tbody>\n",
       "    <tr>\n",
       "      <th>0</th>\n",
       "      <td>1</td>\n",
       "      <td>49302</td>\n",
       "      <td>1</td>\n",
       "      <td>1</td>\n",
       "    </tr>\n",
       "    <tr>\n",
       "      <th>1</th>\n",
       "      <td>1</td>\n",
       "      <td>11109</td>\n",
       "      <td>2</td>\n",
       "      <td>1</td>\n",
       "    </tr>\n",
       "    <tr>\n",
       "      <th>2</th>\n",
       "      <td>1</td>\n",
       "      <td>10246</td>\n",
       "      <td>3</td>\n",
       "      <td>0</td>\n",
       "    </tr>\n",
       "    <tr>\n",
       "      <th>3</th>\n",
       "      <td>1</td>\n",
       "      <td>49683</td>\n",
       "      <td>4</td>\n",
       "      <td>0</td>\n",
       "    </tr>\n",
       "    <tr>\n",
       "      <th>4</th>\n",
       "      <td>1</td>\n",
       "      <td>43633</td>\n",
       "      <td>5</td>\n",
       "      <td>1</td>\n",
       "    </tr>\n",
       "  </tbody>\n",
       "</table>\n",
       "</div>"
      ],
      "text/plain": [
       "   order_id  product_id  add_to_cart_order  reordered\n",
       "0         1       49302                  1          1\n",
       "1         1       11109                  2          1\n",
       "2         1       10246                  3          0\n",
       "3         1       49683                  4          0\n",
       "4         1       43633                  5          1"
      ]
     },
     "metadata": {},
     "output_type": "display_data"
    }
   ],
   "source": [
    "file_n = 3\n",
    "preview_df(file_n)\n",
    "df_n = create_df(file_n)"
   ]
  },
  {
   "cell_type": "code",
   "execution_count": 42,
   "metadata": {},
   "outputs": [
    {
     "name": "stdout",
     "output_type": "stream",
     "text": [
      "len - all:\t\t\t 1384617\n",
      "len - unique order_id:\t\t 131209\n",
      "len - unique product_id:\t 39123\n",
      "len - unique add_to_cart_order:\t 80\n",
      "len - unique reordered:\t\t 2\n"
     ]
    }
   ],
   "source": [
    "print('len - all:\\t\\t\\t', len(df_n))\n",
    "print('len - unique order_id:\\t\\t', len(df_n.order_id.unique()))\n",
    "print('len - unique product_id:\\t', len(df_n.product_id.unique()))\n",
    "print('len - unique add_to_cart_order:\\t', \n",
    "      len(df_n.add_to_cart_order.unique()))\n",
    "print('len - unique reordered:\\t\\t', len(df_n.reordered.unique()))"
   ]
  },
  {
   "cell_type": "code",
   "execution_count": null,
   "metadata": {
    "collapsed": true
   },
   "outputs": [],
   "source": []
  },
  {
   "cell_type": "markdown",
   "metadata": {},
   "source": [
    "### orders.csv - EDA"
   ]
  },
  {
   "cell_type": "code",
   "execution_count": 43,
   "metadata": {
    "scrolled": true
   },
   "outputs": [
    {
     "name": "stdout",
     "output_type": "stream",
     "text": [
      "File index number:\n",
      "4\n",
      "\n",
      "File name:\n",
      "orders.csv\n",
      "\n",
      "Columns:\n",
      "order_id\n",
      "user_id\n",
      "eval_set\n",
      "order_number\n",
      "order_dow\n",
      "order_hour_of_day\n",
      "days_since_prior_order\n",
      "\n",
      "Shape:\n",
      "n_rows:\t3,421,083\n",
      "n_cols:\t7\n",
      "\n",
      "Head:\n"
     ]
    },
    {
     "data": {
      "text/html": [
       "<div>\n",
       "<style>\n",
       "    .dataframe thead tr:only-child th {\n",
       "        text-align: right;\n",
       "    }\n",
       "\n",
       "    .dataframe thead th {\n",
       "        text-align: left;\n",
       "    }\n",
       "\n",
       "    .dataframe tbody tr th {\n",
       "        vertical-align: top;\n",
       "    }\n",
       "</style>\n",
       "<table border=\"1\" class=\"dataframe\">\n",
       "  <thead>\n",
       "    <tr style=\"text-align: right;\">\n",
       "      <th></th>\n",
       "      <th>order_id</th>\n",
       "      <th>user_id</th>\n",
       "      <th>eval_set</th>\n",
       "      <th>order_number</th>\n",
       "      <th>order_dow</th>\n",
       "      <th>order_hour_of_day</th>\n",
       "      <th>days_since_prior_order</th>\n",
       "    </tr>\n",
       "  </thead>\n",
       "  <tbody>\n",
       "    <tr>\n",
       "      <th>0</th>\n",
       "      <td>2539329</td>\n",
       "      <td>1</td>\n",
       "      <td>prior</td>\n",
       "      <td>1</td>\n",
       "      <td>2</td>\n",
       "      <td>8</td>\n",
       "      <td>NaN</td>\n",
       "    </tr>\n",
       "    <tr>\n",
       "      <th>1</th>\n",
       "      <td>2398795</td>\n",
       "      <td>1</td>\n",
       "      <td>prior</td>\n",
       "      <td>2</td>\n",
       "      <td>3</td>\n",
       "      <td>7</td>\n",
       "      <td>15.0</td>\n",
       "    </tr>\n",
       "    <tr>\n",
       "      <th>2</th>\n",
       "      <td>473747</td>\n",
       "      <td>1</td>\n",
       "      <td>prior</td>\n",
       "      <td>3</td>\n",
       "      <td>3</td>\n",
       "      <td>12</td>\n",
       "      <td>21.0</td>\n",
       "    </tr>\n",
       "    <tr>\n",
       "      <th>3</th>\n",
       "      <td>2254736</td>\n",
       "      <td>1</td>\n",
       "      <td>prior</td>\n",
       "      <td>4</td>\n",
       "      <td>4</td>\n",
       "      <td>7</td>\n",
       "      <td>29.0</td>\n",
       "    </tr>\n",
       "    <tr>\n",
       "      <th>4</th>\n",
       "      <td>431534</td>\n",
       "      <td>1</td>\n",
       "      <td>prior</td>\n",
       "      <td>5</td>\n",
       "      <td>4</td>\n",
       "      <td>15</td>\n",
       "      <td>28.0</td>\n",
       "    </tr>\n",
       "  </tbody>\n",
       "</table>\n",
       "</div>"
      ],
      "text/plain": [
       "   order_id  user_id eval_set  order_number  order_dow  order_hour_of_day  \\\n",
       "0   2539329        1    prior             1          2                  8   \n",
       "1   2398795        1    prior             2          3                  7   \n",
       "2    473747        1    prior             3          3                 12   \n",
       "3   2254736        1    prior             4          4                  7   \n",
       "4    431534        1    prior             5          4                 15   \n",
       "\n",
       "   days_since_prior_order  \n",
       "0                     NaN  \n",
       "1                    15.0  \n",
       "2                    21.0  \n",
       "3                    29.0  \n",
       "4                    28.0  "
      ]
     },
     "metadata": {},
     "output_type": "display_data"
    }
   ],
   "source": [
    "file_n = 4\n",
    "preview_df(file_n)\n",
    "df_n = create_df(file_n)"
   ]
  },
  {
   "cell_type": "code",
   "execution_count": null,
   "metadata": {
    "collapsed": true
   },
   "outputs": [],
   "source": []
  },
  {
   "cell_type": "code",
   "execution_count": 44,
   "metadata": {},
   "outputs": [
    {
     "data": {
      "text/plain": [
       "<matplotlib.axes._subplots.AxesSubplot at 0x11579f438>"
      ]
     },
     "execution_count": 44,
     "metadata": {},
     "output_type": "execute_result"
    },
    {
     "data": {
      "image/png": "[encoded data removed]",
      "text/plain": [
       "<matplotlib.figure.Figure at 0x114d08be0>"
      ]
     },
     "metadata": {},
     "output_type": "display_data"
    }
   ],
   "source": [
    "ohodvc = df_n.order_hour_of_day.value_counts()\n",
    "ohodvc.sort_index(inplace=True)\n",
    "\n",
    "sns.barplot(x=ohodvc.index.values, y=ohodvc.values)"
   ]
  },
  {
   "cell_type": "code",
   "execution_count": null,
   "metadata": {},
   "outputs": [],
   "source": []
  },
  {
   "cell_type": "markdown",
   "metadata": {},
   "source": [
    "### products.csv - EDA"
   ]
  },
  {
   "cell_type": "code",
   "execution_count": 45,
   "metadata": {},
   "outputs": [
    {
     "name": "stdout",
     "output_type": "stream",
     "text": [
      "File index number:\n",
      "5\n",
      "\n",
      "File name:\n",
      "products.csv\n",
      "\n",
      "Columns:\n",
      "product_id\n",
      "product_name\n",
      "aisle_id\n",
      "department_id\n",
      "\n",
      "Shape:\n",
      "n_rows:\t49,688\n",
      "n_cols:\t4\n",
      "\n",
      "Head:\n"
     ]
    },
    {
     "data": {
      "text/html": [
       "<div>\n",
       "<style>\n",
       "    .dataframe thead tr:only-child th {\n",
       "        text-align: right;\n",
       "    }\n",
       "\n",
       "    .dataframe thead th {\n",
       "        text-align: left;\n",
       "    }\n",
       "\n",
       "    .dataframe tbody tr th {\n",
       "        vertical-align: top;\n",
       "    }\n",
       "</style>\n",
       "<table border=\"1\" class=\"dataframe\">\n",
       "  <thead>\n",
       "    <tr style=\"text-align: right;\">\n",
       "      <th></th>\n",
       "      <th>product_id</th>\n",
       "      <th>product_name</th>\n",
       "      <th>aisle_id</th>\n",
       "      <th>department_id</th>\n",
       "    </tr>\n",
       "  </thead>\n",
       "  <tbody>\n",
       "    <tr>\n",
       "      <th>0</th>\n",
       "      <td>1</td>\n",
       "      <td>Chocolate Sandwich Cookies</td>\n",
       "      <td>61</td>\n",
       "      <td>19</td>\n",
       "    </tr>\n",
       "    <tr>\n",
       "      <th>1</th>\n",
       "      <td>2</td>\n",
       "      <td>All-Seasons Salt</td>\n",
       "      <td>104</td>\n",
       "      <td>13</td>\n",
       "    </tr>\n",
       "    <tr>\n",
       "      <th>2</th>\n",
       "      <td>3</td>\n",
       "      <td>Robust Golden Unsweetened Oolong Tea</td>\n",
       "      <td>94</td>\n",
       "      <td>7</td>\n",
       "    </tr>\n",
       "    <tr>\n",
       "      <th>3</th>\n",
       "      <td>4</td>\n",
       "      <td>Smart Ones Classic Favorites Mini Rigatoni Wit...</td>\n",
       "      <td>38</td>\n",
       "      <td>1</td>\n",
       "    </tr>\n",
       "    <tr>\n",
       "      <th>4</th>\n",
       "      <td>5</td>\n",
       "      <td>Green Chile Anytime Sauce</td>\n",
       "      <td>5</td>\n",
       "      <td>13</td>\n",
       "    </tr>\n",
       "  </tbody>\n",
       "</table>\n",
       "</div>"
      ],
      "text/plain": [
       "   product_id                                       product_name  aisle_id  \\\n",
       "0           1                         Chocolate Sandwich Cookies        61   \n",
       "1           2                                   All-Seasons Salt       104   \n",
       "2           3               Robust Golden Unsweetened Oolong Tea        94   \n",
       "3           4  Smart Ones Classic Favorites Mini Rigatoni Wit...        38   \n",
       "4           5                          Green Chile Anytime Sauce         5   \n",
       "\n",
       "   department_id  \n",
       "0             19  \n",
       "1             13  \n",
       "2              7  \n",
       "3              1  \n",
       "4             13  "
      ]
     },
     "metadata": {},
     "output_type": "display_data"
    }
   ],
   "source": [
    "file_n = 5\n",
    "preview_df(file_n)\n",
    "df_n = create_df(file_n)"
   ]
  },
  {
   "cell_type": "markdown",
   "metadata": {},
   "source": [
    "    print('len - all:\\t\\t\\t', len(df_n))\n",
    "    print('len - unique order_id:\\t\\t', len(df_n.order_id.unique()))\n",
    "    print('len - unique product_id:\\t', len(df_n.product_id.unique()))\n",
    "    print('len - unique add_to_cart_order:\\t', \n",
    "          len(df_n.add_to_cart_order.unique()))\n",
    "    print('len - unique reordered:\\t\\t', len(df_n.reordered.unique()))"
   ]
  },
  {
   "cell_type": "code",
   "execution_count": null,
   "metadata": {
    "collapsed": true
   },
   "outputs": [],
   "source": []
  },
  {
   "cell_type": "code",
   "execution_count": null,
   "metadata": {
    "collapsed": true
   },
   "outputs": [],
   "source": []
  },
  {
   "cell_type": "code",
   "execution_count": null,
   "metadata": {
    "collapsed": true
   },
   "outputs": [],
   "source": []
  },
  {
   "cell_type": "code",
   "execution_count": null,
   "metadata": {},
   "outputs": [],
   "source": []
  },
  {
   "cell_type": "code",
   "execution_count": null,
   "metadata": {
    "collapsed": true
   },
   "outputs": [],
   "source": []
  },
  {
   "cell_type": "markdown",
   "metadata": {},
   "source": [
    "    file_n = 0\n",
    "\n",
    "    raw_data_path_f = os.path.join(raw_data_dir, raw_data_files[file_n])\n",
    "    df_f = pd.read_csv(raw_data_path_f)\n",
    "\n",
    "    print('File index number:')\n",
    "    print(file_n)\n",
    "\n",
    "    print('\\nFile name:')\n",
    "    print(raw_data_files[file_n])\n",
    "\n",
    "    print('\\nColumns:')\n",
    "    print(*list(df_f.columns), sep='\\n')\n",
    "\n",
    "    print('\\nHead:')\n",
    "    display(df_f.head())"
   ]
  },
  {
   "cell_type": "code",
   "execution_count": null,
   "metadata": {
    "collapsed": true
   },
   "outputs": [],
   "source": []
  },
  {
   "cell_type": "code",
   "execution_count": null,
   "metadata": {
    "collapsed": true
   },
   "outputs": [],
   "source": []
  },
  {
   "cell_type": "code",
   "execution_count": null,
   "metadata": {
    "collapsed": true
   },
   "outputs": [],
   "source": []
  },
  {
   "cell_type": "code",
   "execution_count": null,
   "metadata": {
    "collapsed": true
   },
   "outputs": [],
   "source": []
  },
  {
   "cell_type": "code",
   "execution_count": 47,
   "metadata": {},
   "outputs": [
    {
     "ename": "NameError",
     "evalue": "name 'df_f' is not defined",
     "output_type": "error",
     "traceback": [
      "\u001b[0;31m---------------------------------------------------------------------------\u001b[0m",
      "\u001b[0;31mNameError\u001b[0m                                 Traceback (most recent call last)",
      "\u001b[0;32m<ipython-input-47-29615feb8e41>\u001b[0m in \u001b[0;36m<module>\u001b[0;34m()\u001b[0m\n\u001b[0;32m----> 1\u001b[0;31m \u001b[0mlen\u001b[0m\u001b[0;34m(\u001b[0m\u001b[0mdf_f\u001b[0m\u001b[0;34m.\u001b[0m\u001b[0maisle_id\u001b[0m\u001b[0;34m.\u001b[0m\u001b[0munique\u001b[0m\u001b[0;34m(\u001b[0m\u001b[0;34m)\u001b[0m\u001b[0;34m)\u001b[0m\u001b[0;34m\u001b[0m\u001b[0m\n\u001b[0m",
      "\u001b[0;31mNameError\u001b[0m: name 'df_f' is not defined"
     ]
    }
   ],
   "source": [
    "len(df_f.aisle_id.unique())"
   ]
  },
  {
   "cell_type": "code",
   "execution_count": null,
   "metadata": {},
   "outputs": [],
   "source": [
    "len(df_f)"
   ]
  },
  {
   "cell_type": "code",
   "execution_count": null,
   "metadata": {},
   "outputs": [],
   "source": [
    "file_n = 1\n",
    "preview_df(file_n)"
   ]
  },
  {
   "cell_type": "code",
   "execution_count": null,
   "metadata": {
    "collapsed": true
   },
   "outputs": [],
   "source": [
    "for i, f in enumerate(raw_data_files):\n",
    "    raw_data_path_f = os.path.join(raw_data_dir, f)\n",
    "    df_f = pd.read_csv(raw_data_path_f)"
   ]
  }
 ],
 "metadata": {
  "kernelspec": {
   "display_name": "Python 3",
   "language": "python",
   "name": "python3"
  },
  "language_info": {
   "codemirror_mode": {
    "name": "ipython",
    "version": 3
   },
   "file_extension": ".py",
   "mimetype": "text/x-python",
   "name": "python",
   "nbconvert_exporter": "python",
   "pygments_lexer": "ipython3",
   "version": "3.6.1"
  }
 },
 "nbformat": 4,
 "nbformat_minor": 2
}
