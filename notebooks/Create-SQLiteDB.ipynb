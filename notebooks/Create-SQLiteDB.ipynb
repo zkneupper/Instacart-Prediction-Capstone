{
 "cells": [
  {
   "cell_type": "markdown",
   "metadata": {},
   "source": [
    "# Create SQLite Database"
   ]
  },
  {
   "cell_type": "markdown",
   "metadata": {},
   "source": [
    "### Import libraries and modify notebook settings"
   ]
  },
  {
   "cell_type": "code",
   "execution_count": 1,
   "metadata": {
    "collapsed": true
   },
   "outputs": [],
   "source": [
    "# Import libraries\n",
    "import os\n",
    "import sys\n",
    "import pandas as pd\n",
    "from re import sub\n",
    "from sqlalchemy import create_engine\n",
    "\n",
    "# Modify notebook settings\n",
    "pd.options.display.max_columns = 100"
   ]
  },
  {
   "cell_type": "markdown",
   "metadata": {},
   "source": [
    "### Create paths to data folders and files"
   ]
  },
  {
   "cell_type": "code",
   "execution_count": 2,
   "metadata": {
    "collapsed": true
   },
   "outputs": [],
   "source": [
    "# Create a variable for the project root directory\n",
    "proj_root = os.path.join(os.pardir)\n",
    "\n",
    "# Save the path to the folder containing the original, immutable data dump:\n",
    "# /data/raw/instacart_2017_05_01\n",
    "raw_data_dir = os.path.join(proj_root,\n",
    "                                \"data\",\n",
    "                                \"raw\",\n",
    "                                \"instacart_2017_05_01\")\n",
    "\n",
    "# Save the path to the folder that will contain the intermediate data \n",
    "# that will be transformed: /data/interim\n",
    "interim_data_dir = os.path.join(proj_root,\n",
    "                                \"data\",\n",
    "                                \"interim\")\n",
    "\n",
    "# Save the path to the SQLite databse we will create in /data/interim\n",
    "db_name = 'instacart_2017_05_01.db'\n",
    "\n",
    "interim_sqlitedb = os.path.join('sqlite:///',\n",
    "                                interim_data_dir,\n",
    "                                db_name)"
   ]
  },
  {
   "cell_type": "markdown",
   "metadata": {},
   "source": [
    "### Put the contents of csv files into a sqlite database"
   ]
  },
  {
   "cell_type": "code",
   "execution_count": 3,
   "metadata": {
    "collapsed": true
   },
   "outputs": [],
   "source": [
    "# Create list of data files\n",
    "raw_data_files = os.listdir(raw_data_dir)"
   ]
  },
  {
   "cell_type": "code",
   "execution_count": 4,
   "metadata": {
    "collapsed": true
   },
   "outputs": [],
   "source": [
    "# Create list of table names\n",
    "table_names = [sub('.csv', '', fn) for fn in raw_data_files]"
   ]
  },
  {
   "cell_type": "code",
   "execution_count": 5,
   "metadata": {
    "collapsed": true
   },
   "outputs": [],
   "source": [
    "# Create a sqllite database\n",
    "engine = create_engine(interim_sqlitedb)\n",
    "\n",
    "# Set the chunksize to 100,000 to keep the size of the chunks managable.\n",
    "chunksize = 100000\n",
    "\n",
    "# Iterate over each csv file in chunks and store the data \n",
    "# from each csv file in its own table in the sqllite database\n",
    "\n",
    "for i in range(len(raw_data_files)):\n",
    "\n",
    "    file_dir = os.path.join(raw_data_dir, raw_data_files[i])\n",
    "    \n",
    "    # Initialize iterator variables\n",
    "    j = 1\n",
    "\n",
    "    # Set the table name\n",
    "    table_name = sub('.csv', '', raw_data_files[i])\n",
    "    \n",
    "    for df in pd.read_csv(file_dir, chunksize=chunksize, iterator=True):\n",
    "        # Make sure column names won't contain spaces.\n",
    "        df = df.rename(columns={c: c.replace(' ', '_') for c in df.columns}) \n",
    "        # Set index values and table values\n",
    "        df.index += j\n",
    "        df.to_sql(table_name, engine, if_exists='append')\n",
    "        j = df.index[-1] + 1"
   ]
  }
 ],
 "metadata": {
  "kernelspec": {
   "display_name": "Python 3",
   "language": "python",
   "name": "python3"
  },
  "language_info": {
   "codemirror_mode": {
    "name": "ipython",
    "version": 3
   },
   "file_extension": ".py",
   "mimetype": "text/x-python",
   "name": "python",
   "nbconvert_exporter": "python",
   "pygments_lexer": "ipython3",
   "version": "3.6.1"
  }
 },
 "nbformat": 4,
 "nbformat_minor": 2
}
