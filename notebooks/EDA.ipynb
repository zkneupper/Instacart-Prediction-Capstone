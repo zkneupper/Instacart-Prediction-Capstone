{
 "cells": [
  {
   "cell_type": "markdown",
   "metadata": {},
   "source": [
    "# Instacart EDA Notebook\n",
    "\n",
    "In this notebook, we do a high-level exploratory data analysis of our engineered Instacart dataset."
   ]
  },
  {
   "cell_type": "markdown",
   "metadata": {},
   "source": [
    "### Import libraries and modify notebook settings"
   ]
  },
  {
   "cell_type": "code",
   "execution_count": 1,
   "metadata": {
    "collapsed": true
   },
   "outputs": [],
   "source": [
    "# Import libraries\n",
    "import os\n",
    "import sys\n",
    "import pandas as pd\n",
    "import matplotlib.pyplot as plt\n",
    "\n",
    "# Modify notebook settings\n",
    "%matplotlib inline\n",
    "pd.options.display.max_columns = 100\n",
    "pd.options.display.max_rows = 100"
   ]
  },
  {
   "cell_type": "markdown",
   "metadata": {},
   "source": [
    "### Create paths to data folders and files"
   ]
  },
  {
   "cell_type": "code",
   "execution_count": 2,
   "metadata": {
    "collapsed": true
   },
   "outputs": [],
   "source": [
    "# Create a variable for the project root directory\n",
    "proj_root = os.path.join(os.pardir)\n",
    "\n",
    "# Save the path to the folder that will contain the final,\n",
    "# processed data: /data/processed\n",
    "processed_data_dir = os.path.join(proj_root,\n",
    "                                \"data\",\n",
    "                                \"processed\")\n",
    "\n",
    "# Save the path to final, processed Instacart data file.\n",
    "final_csv_name = 'instacart_final.csv'\n",
    "\n",
    "final_csv_path = os.path.join(processed_data_dir,\n",
    "                              final_csv_name)\n",
    "\n",
    "# Save the path to the folder that will contain \n",
    "# the figures for the final report:\n",
    "# /reports/figures\n",
    "figures_dir = os.path.join(proj_root,\n",
    "                           \"reports\",\n",
    "                           \"figures\")"
   ]
  },
  {
   "cell_type": "markdown",
   "metadata": {},
   "source": [
    "### Read in data"
   ]
  },
  {
   "cell_type": "code",
   "execution_count": 3,
   "metadata": {
    "collapsed": true
   },
   "outputs": [],
   "source": [
    "df = pd.read_csv(final_csv_path, index_col=0)"
   ]
  },
  {
   "cell_type": "markdown",
   "metadata": {},
   "source": [
    "### Explore the data"
   ]
  },
  {
   "cell_type": "code",
   "execution_count": 4,
   "metadata": {},
   "outputs": [
    {
     "data": {
      "text/plain": [
       "['y',\n",
       " 'total_buy_n5',\n",
       " 'total_buy_ratio_n5',\n",
       " 'order_ratio_by_chance_n5',\n",
       " 'useritem_order_days_max_n5',\n",
       " 'useritem_order_days_min_n5']"
      ]
     },
     "execution_count": 4,
     "metadata": {},
     "output_type": "execute_result"
    }
   ],
   "source": [
    "list(df.columns)"
   ]
  },
  {
   "cell_type": "code",
   "execution_count": 5,
   "metadata": {},
   "outputs": [
    {
     "data": {
      "text/html": [
       "<div>\n",
       "<style>\n",
       "    .dataframe thead tr:only-child th {\n",
       "        text-align: right;\n",
       "    }\n",
       "\n",
       "    .dataframe thead th {\n",
       "        text-align: left;\n",
       "    }\n",
       "\n",
       "    .dataframe tbody tr th {\n",
       "        vertical-align: top;\n",
       "    }\n",
       "</style>\n",
       "<table border=\"1\" class=\"dataframe\">\n",
       "  <thead>\n",
       "    <tr style=\"text-align: right;\">\n",
       "      <th></th>\n",
       "      <th>y</th>\n",
       "      <th>total_buy_n5</th>\n",
       "      <th>total_buy_ratio_n5</th>\n",
       "      <th>order_ratio_by_chance_n5</th>\n",
       "      <th>useritem_order_days_max_n5</th>\n",
       "      <th>useritem_order_days_min_n5</th>\n",
       "    </tr>\n",
       "    <tr>\n",
       "      <th>up_pair</th>\n",
       "      <th></th>\n",
       "      <th></th>\n",
       "      <th></th>\n",
       "      <th></th>\n",
       "      <th></th>\n",
       "      <th></th>\n",
       "    </tr>\n",
       "  </thead>\n",
       "  <tbody>\n",
       "    <tr>\n",
       "      <th>001-000196</th>\n",
       "      <td>1</td>\n",
       "      <td>5</td>\n",
       "      <td>1.0</td>\n",
       "      <td>1.0</td>\n",
       "      <td>30.0</td>\n",
       "      <td>0.0</td>\n",
       "    </tr>\n",
       "    <tr>\n",
       "      <th>001-010258</th>\n",
       "      <td>1</td>\n",
       "      <td>5</td>\n",
       "      <td>1.0</td>\n",
       "      <td>1.0</td>\n",
       "      <td>30.0</td>\n",
       "      <td>0.0</td>\n",
       "    </tr>\n",
       "    <tr>\n",
       "      <th>001-010326</th>\n",
       "      <td>0</td>\n",
       "      <td>0</td>\n",
       "      <td>0.0</td>\n",
       "      <td>0.0</td>\n",
       "      <td>83.0</td>\n",
       "      <td>83.0</td>\n",
       "    </tr>\n",
       "    <tr>\n",
       "      <th>001-012427</th>\n",
       "      <td>0</td>\n",
       "      <td>5</td>\n",
       "      <td>1.0</td>\n",
       "      <td>1.0</td>\n",
       "      <td>30.0</td>\n",
       "      <td>0.0</td>\n",
       "    </tr>\n",
       "    <tr>\n",
       "      <th>001-013032</th>\n",
       "      <td>1</td>\n",
       "      <td>2</td>\n",
       "      <td>0.4</td>\n",
       "      <td>0.4</td>\n",
       "      <td>34.0</td>\n",
       "      <td>19.0</td>\n",
       "    </tr>\n",
       "  </tbody>\n",
       "</table>\n",
       "</div>"
      ],
      "text/plain": [
       "            y  total_buy_n5  total_buy_ratio_n5  order_ratio_by_chance_n5  \\\n",
       "up_pair                                                                     \n",
       "001-000196  1             5                 1.0                       1.0   \n",
       "001-010258  1             5                 1.0                       1.0   \n",
       "001-010326  0             0                 0.0                       0.0   \n",
       "001-012427  0             5                 1.0                       1.0   \n",
       "001-013032  1             2                 0.4                       0.4   \n",
       "\n",
       "            useritem_order_days_max_n5  useritem_order_days_min_n5  \n",
       "up_pair                                                             \n",
       "001-000196                        30.0                         0.0  \n",
       "001-010258                        30.0                         0.0  \n",
       "001-010326                        83.0                        83.0  \n",
       "001-012427                        30.0                         0.0  \n",
       "001-013032                        34.0                        19.0  "
      ]
     },
     "execution_count": 5,
     "metadata": {},
     "output_type": "execute_result"
    }
   ],
   "source": [
    "df.head()"
   ]
  },
  {
   "cell_type": "markdown",
   "metadata": {},
   "source": [
    "### Check for null values"
   ]
  },
  {
   "cell_type": "code",
   "execution_count": 6,
   "metadata": {},
   "outputs": [
    {
     "data": {
      "text/plain": [
       "y                             0\n",
       "total_buy_n5                  0\n",
       "total_buy_ratio_n5            0\n",
       "order_ratio_by_chance_n5      0\n",
       "useritem_order_days_max_n5    0\n",
       "useritem_order_days_min_n5    0\n",
       "dtype: int64"
      ]
     },
     "execution_count": 6,
     "metadata": {},
     "output_type": "execute_result"
    }
   ],
   "source": [
    "df.isnull().sum()"
   ]
  },
  {
   "cell_type": "markdown",
   "metadata": {},
   "source": [
    "### Check for correlation between variables"
   ]
  },
  {
   "cell_type": "code",
   "execution_count": 7,
   "metadata": {},
   "outputs": [
    {
     "data": {
      "text/html": [
       "<div>\n",
       "<style>\n",
       "    .dataframe thead tr:only-child th {\n",
       "        text-align: right;\n",
       "    }\n",
       "\n",
       "    .dataframe thead th {\n",
       "        text-align: left;\n",
       "    }\n",
       "\n",
       "    .dataframe tbody tr th {\n",
       "        vertical-align: top;\n",
       "    }\n",
       "</style>\n",
       "<table border=\"1\" class=\"dataframe\">\n",
       "  <thead>\n",
       "    <tr style=\"text-align: right;\">\n",
       "      <th></th>\n",
       "      <th>y</th>\n",
       "      <th>total_buy_n5</th>\n",
       "      <th>total_buy_ratio_n5</th>\n",
       "      <th>order_ratio_by_chance_n5</th>\n",
       "      <th>useritem_order_days_max_n5</th>\n",
       "      <th>useritem_order_days_min_n5</th>\n",
       "    </tr>\n",
       "  </thead>\n",
       "  <tbody>\n",
       "    <tr>\n",
       "      <th>y</th>\n",
       "      <td>1.000000</td>\n",
       "      <td>0.301751</td>\n",
       "      <td>0.301751</td>\n",
       "      <td>0.223214</td>\n",
       "      <td>-0.076630</td>\n",
       "      <td>-0.130569</td>\n",
       "    </tr>\n",
       "    <tr>\n",
       "      <th>total_buy_n5</th>\n",
       "      <td>0.301751</td>\n",
       "      <td>1.000000</td>\n",
       "      <td>1.000000</td>\n",
       "      <td>0.749122</td>\n",
       "      <td>-0.207975</td>\n",
       "      <td>-0.443379</td>\n",
       "    </tr>\n",
       "    <tr>\n",
       "      <th>total_buy_ratio_n5</th>\n",
       "      <td>0.301751</td>\n",
       "      <td>1.000000</td>\n",
       "      <td>1.000000</td>\n",
       "      <td>0.749122</td>\n",
       "      <td>-0.207975</td>\n",
       "      <td>-0.443379</td>\n",
       "    </tr>\n",
       "    <tr>\n",
       "      <th>order_ratio_by_chance_n5</th>\n",
       "      <td>0.223214</td>\n",
       "      <td>0.749122</td>\n",
       "      <td>0.749122</td>\n",
       "      <td>1.000000</td>\n",
       "      <td>-0.175133</td>\n",
       "      <td>-0.447793</td>\n",
       "    </tr>\n",
       "    <tr>\n",
       "      <th>useritem_order_days_max_n5</th>\n",
       "      <td>-0.076630</td>\n",
       "      <td>-0.207975</td>\n",
       "      <td>-0.207975</td>\n",
       "      <td>-0.175133</td>\n",
       "      <td>1.000000</td>\n",
       "      <td>0.816941</td>\n",
       "    </tr>\n",
       "    <tr>\n",
       "      <th>useritem_order_days_min_n5</th>\n",
       "      <td>-0.130569</td>\n",
       "      <td>-0.443379</td>\n",
       "      <td>-0.443379</td>\n",
       "      <td>-0.447793</td>\n",
       "      <td>0.816941</td>\n",
       "      <td>1.000000</td>\n",
       "    </tr>\n",
       "  </tbody>\n",
       "</table>\n",
       "</div>"
      ],
      "text/plain": [
       "                                   y  total_buy_n5  total_buy_ratio_n5  \\\n",
       "y                           1.000000      0.301751            0.301751   \n",
       "total_buy_n5                0.301751      1.000000            1.000000   \n",
       "total_buy_ratio_n5          0.301751      1.000000            1.000000   \n",
       "order_ratio_by_chance_n5    0.223214      0.749122            0.749122   \n",
       "useritem_order_days_max_n5 -0.076630     -0.207975           -0.207975   \n",
       "useritem_order_days_min_n5 -0.130569     -0.443379           -0.443379   \n",
       "\n",
       "                            order_ratio_by_chance_n5  \\\n",
       "y                                           0.223214   \n",
       "total_buy_n5                                0.749122   \n",
       "total_buy_ratio_n5                          0.749122   \n",
       "order_ratio_by_chance_n5                    1.000000   \n",
       "useritem_order_days_max_n5                 -0.175133   \n",
       "useritem_order_days_min_n5                 -0.447793   \n",
       "\n",
       "                            useritem_order_days_max_n5  \\\n",
       "y                                            -0.076630   \n",
       "total_buy_n5                                 -0.207975   \n",
       "total_buy_ratio_n5                           -0.207975   \n",
       "order_ratio_by_chance_n5                     -0.175133   \n",
       "useritem_order_days_max_n5                    1.000000   \n",
       "useritem_order_days_min_n5                    0.816941   \n",
       "\n",
       "                            useritem_order_days_min_n5  \n",
       "y                                            -0.130569  \n",
       "total_buy_n5                                 -0.443379  \n",
       "total_buy_ratio_n5                           -0.443379  \n",
       "order_ratio_by_chance_n5                     -0.447793  \n",
       "useritem_order_days_max_n5                    0.816941  \n",
       "useritem_order_days_min_n5                    1.000000  "
      ]
     },
     "execution_count": 7,
     "metadata": {},
     "output_type": "execute_result"
    }
   ],
   "source": [
    "df.corr()"
   ]
  },
  {
   "cell_type": "code",
   "execution_count": 8,
   "metadata": {},
   "outputs": [
    {
     "data": {
      "text/html": [
       "<div>\n",
       "<style>\n",
       "    .dataframe thead tr:only-child th {\n",
       "        text-align: right;\n",
       "    }\n",
       "\n",
       "    .dataframe thead th {\n",
       "        text-align: left;\n",
       "    }\n",
       "\n",
       "    .dataframe tbody tr th {\n",
       "        vertical-align: top;\n",
       "    }\n",
       "</style>\n",
       "<table border=\"1\" class=\"dataframe\">\n",
       "  <thead>\n",
       "    <tr style=\"text-align: right;\">\n",
       "      <th></th>\n",
       "      <th>total_buy_n5</th>\n",
       "      <th>total_buy_ratio_n5</th>\n",
       "    </tr>\n",
       "  </thead>\n",
       "  <tbody>\n",
       "    <tr>\n",
       "      <th>total_buy_n5</th>\n",
       "      <td>1.0</td>\n",
       "      <td>1.0</td>\n",
       "    </tr>\n",
       "    <tr>\n",
       "      <th>total_buy_ratio_n5</th>\n",
       "      <td>1.0</td>\n",
       "      <td>1.0</td>\n",
       "    </tr>\n",
       "  </tbody>\n",
       "</table>\n",
       "</div>"
      ],
      "text/plain": [
       "                    total_buy_n5  total_buy_ratio_n5\n",
       "total_buy_n5                 1.0                 1.0\n",
       "total_buy_ratio_n5           1.0                 1.0"
      ]
     },
     "execution_count": 8,
     "metadata": {},
     "output_type": "execute_result"
    }
   ],
   "source": [
    "df[['total_buy_n5', 'total_buy_ratio_n5']].corr()"
   ]
  },
  {
   "cell_type": "markdown",
   "metadata": {},
   "source": [
    "`total_buy_ratio_n5` is a linear combination of `total_buy_n5`. Therefore, we drop `total_buy_ratio_n5` from our feature set."
   ]
  },
  {
   "cell_type": "code",
   "execution_count": 9,
   "metadata": {
    "collapsed": true
   },
   "outputs": [],
   "source": [
    "df = df.drop('total_buy_ratio_n5', axis=1)"
   ]
  },
  {
   "cell_type": "markdown",
   "metadata": {},
   "source": [
    "### Check if the target variable is balanced"
   ]
  },
  {
   "cell_type": "code",
   "execution_count": 10,
   "metadata": {},
   "outputs": [
    {
     "data": {
      "text/plain": [
       "0    0.93772\n",
       "1    0.06228\n",
       "Name: y, dtype: float64"
      ]
     },
     "execution_count": 10,
     "metadata": {},
     "output_type": "execute_result"
    }
   ],
   "source": [
    "df['y'].value_counts(normalize=True, ascending=False)"
   ]
  },
  {
   "cell_type": "markdown",
   "metadata": {},
   "source": [
    "The target is quite unbalanced, with only 6% reorders."
   ]
  },
  {
   "cell_type": "markdown",
   "metadata": {},
   "source": [
    "### Visualize the distribution of each feature"
   ]
  },
  {
   "cell_type": "code",
   "execution_count": 11,
   "metadata": {},
   "outputs": [
    {
     "data": {
      "text/plain": [
       "['y',\n",
       " 'total_buy_n5',\n",
       " 'order_ratio_by_chance_n5',\n",
       " 'useritem_order_days_max_n5',\n",
       " 'useritem_order_days_min_n5']"
      ]
     },
     "execution_count": 11,
     "metadata": {},
     "output_type": "execute_result"
    }
   ],
   "source": [
    "list(df.columns)"
   ]
  },
  {
   "cell_type": "code",
   "execution_count": 12,
   "metadata": {},
   "outputs": [
    {
     "data": {
      "text/plain": [
       "0    0.495471\n",
       "1    0.358921\n",
       "2    0.086291\n",
       "3    0.035260\n",
       "4    0.016371\n",
       "5    0.007686\n",
       "Name: total_buy_n5, dtype: float64"
      ]
     },
     "execution_count": 12,
     "metadata": {},
     "output_type": "execute_result"
    }
   ],
   "source": [
    "df['total_buy_n5'].value_counts(normalize=True,\n",
    "                                ascending=False)"
   ]
  },
  {
   "cell_type": "code",
   "execution_count": 13,
   "metadata": {},
   "outputs": [
    {
     "data": {
      "text/plain": [
       "<matplotlib.axes._subplots.AxesSubplot at 0x10ae358d0>"
      ]
     },
     "execution_count": 13,
     "metadata": {},
     "output_type": "execute_result"
    },
    {
     "data": {
      "image/png": "[encoded data removed]",
      "text/plain": [
       "<matplotlib.figure.Figure at 0x107f75908>"
      ]
     },
     "metadata": {},
     "output_type": "display_data"
    }
   ],
   "source": [
    "df['total_buy_n5'].hist(bins=df['total_buy_n5'].value_counts().count())"
   ]
  },
  {
   "cell_type": "code",
   "execution_count": 14,
   "metadata": {},
   "outputs": [
    {
     "data": {
      "text/plain": [
       "0.000000    0.495471\n",
       "0.200000    0.128801\n",
       "1.000000    0.091449\n",
       "0.500000    0.071898\n",
       "0.333333    0.057723\n",
       "0.400000    0.049827\n",
       "0.250000    0.046362\n",
       "0.600000    0.025274\n",
       "0.800000    0.014138\n",
       "0.666667    0.014024\n",
       "0.750000    0.005032\n",
       "Name: order_ratio_by_chance_n5, dtype: float64"
      ]
     },
     "execution_count": 14,
     "metadata": {},
     "output_type": "execute_result"
    }
   ],
   "source": [
    "df['order_ratio_by_chance_n5'].value_counts(normalize=True,\n",
    "                                            ascending=False)"
   ]
  },
  {
   "cell_type": "code",
   "execution_count": 15,
   "metadata": {},
   "outputs": [
    {
     "data": {
      "text/plain": [
       "<matplotlib.axes._subplots.AxesSubplot at 0x10aef1f60>"
      ]
     },
     "execution_count": 15,
     "metadata": {},
     "output_type": "execute_result"
    },
    {
     "data": {
      "image/png": "[encoded data removed]",
      "text/plain": [
       "<matplotlib.figure.Figure at 0x10b1f5eb8>"
      ]
     },
     "metadata": {},
     "output_type": "display_data"
    }
   ],
   "source": [
    "df['order_ratio_by_chance_n5'].hist(bins=df['order_ratio_by_chance_n5']\n",
    "                                    .value_counts().count())"
   ]
  },
  {
   "cell_type": "code",
   "execution_count": 16,
   "metadata": {},
   "outputs": [
    {
     "data": {
      "text/plain": [
       "<matplotlib.axes._subplots.AxesSubplot at 0x10b98f908>"
      ]
     },
     "execution_count": 16,
     "metadata": {},
     "output_type": "execute_result"
    },
    {
     "data": {
      "image/png": "[encoded data removed]",
      "text/plain": [
       "<matplotlib.figure.Figure at 0x10b9a5a58>"
      ]
     },
     "metadata": {},
     "output_type": "display_data"
    }
   ],
   "source": [
    "df['useritem_order_days_max_n5'].hist(bins=20, normed=True)"
   ]
  },
  {
   "cell_type": "code",
   "execution_count": 17,
   "metadata": {},
   "outputs": [
    {
     "data": {
      "text/plain": [
       "<matplotlib.axes._subplots.AxesSubplot at 0x10bb175c0>"
      ]
     },
     "execution_count": 17,
     "metadata": {},
     "output_type": "execute_result"
    },
    {
     "data": {
      "image/png": "[encoded data removed]",
      "text/plain": [
       "<matplotlib.figure.Figure at 0x10bb407f0>"
      ]
     },
     "metadata": {},
     "output_type": "display_data"
    }
   ],
   "source": [
    "df['useritem_order_days_min_n5'].hist(bins=20, normed=True)"
   ]
  },
  {
   "cell_type": "markdown",
   "metadata": {},
   "source": [
    "## Bivariate Visualizations\n",
    "Visualize how the proportion of reorders varies with each feature"
   ]
  },
  {
   "cell_type": "code",
   "execution_count": 18,
   "metadata": {
    "collapsed": true
   },
   "outputs": [],
   "source": [
    "def create_bivariate_plot(feature_col):\n",
    "    \n",
    "    # Plot the proportion of reorders by feature_col values\n",
    "    my_df = df.groupby([feature_col,\n",
    "                        'y']).size().unstack()\n",
    "\n",
    "    # Calculate proportions\n",
    "    my_df = my_df.div(my_df.sum(axis=1), axis='index')\n",
    "\n",
    "    # Plot\n",
    "    fig, ax = plt.subplots(1, 1, figsize=(8,6))\n",
    "\n",
    "    my_colors = ['0.3']\n",
    "\n",
    "    ax.scatter(x=my_df.index,\n",
    "               y=my_df[1], \n",
    "               color=my_colors)\n",
    "\n",
    "    for tick in ax.yaxis.get_major_ticks():\n",
    "        tick.label.set_fontsize(14) \n",
    "    for tick in ax.xaxis.get_major_ticks():\n",
    "        tick.label.set_fontsize(14) \n",
    "\n",
    "    plt.title('Proportion of Reorders\\nby \"{}\"'.format(feature_col),\n",
    "              fontsize=20)\n",
    "    plt.ylabel('Proportion of Reorders', fontsize=14)\n",
    "    plt.xlabel('\"{}\"'.format(feature_col), fontsize=14)\n",
    "\n",
    "    # figure file_name\n",
    "    fig_file_name = 'EDA_Reorders_by_useritem_order_days_min_n5'\n",
    "    fig_file_name = 'EDA_Reorders_by_{}'.format(feature_col)\n",
    "    \n",
    "    # figure file_path\n",
    "    fig_path = os.path.join(figures_dir, fig_file_name)\n",
    "\n",
    "    plt.tight_layout()\n",
    "    plt.subplots_adjust(top=0.80)\n",
    "\n",
    "    # Save the figure\n",
    "    plt.savefig(fig_path, dpi = 300)\n",
    "\n",
    "    plt.show()    "
   ]
  },
  {
   "cell_type": "markdown",
   "metadata": {},
   "source": [
    "### Plot the how the proportion of reorders varies with total_buy_n5"
   ]
  },
  {
   "cell_type": "code",
   "execution_count": 19,
   "metadata": {},
   "outputs": [
    {
     "data": {
      "image/png": "[encoded data removed]",
      "text/plain": [
       "<matplotlib.figure.Figure at 0x107f75160>"
      ]
     },
     "metadata": {},
     "output_type": "display_data"
    }
   ],
   "source": [
    "create_bivariate_plot('total_buy_n5')"
   ]
  },
  {
   "cell_type": "markdown",
   "metadata": {},
   "source": [
    "### Plot the how the proportion of reorders varies with order_ratio_by_chance_n5"
   ]
  },
  {
   "cell_type": "code",
   "execution_count": 20,
   "metadata": {},
   "outputs": [
    {
     "data": {
      "image/png": "[encoded data removed]",
      "text/plain": [
       "<matplotlib.figure.Figure at 0x10bb82390>"
      ]
     },
     "metadata": {},
     "output_type": "display_data"
    }
   ],
   "source": [
    "create_bivariate_plot('order_ratio_by_chance_n5')"
   ]
  },
  {
   "cell_type": "markdown",
   "metadata": {},
   "source": [
    "### Plot the how the proportion of reorders varies with useritem_order_days_max_n5"
   ]
  },
  {
   "cell_type": "code",
   "execution_count": 21,
   "metadata": {},
   "outputs": [
    {
     "data": {
      "image/png": "[encoded data removed]",
      "text/plain": [
       "<matplotlib.figure.Figure at 0x10bcddf98>"
      ]
     },
     "metadata": {},
     "output_type": "display_data"
    }
   ],
   "source": [
    "create_bivariate_plot('useritem_order_days_max_n5')"
   ]
  },
  {
   "cell_type": "markdown",
   "metadata": {},
   "source": [
    "### Plot the how the proportion of reorders varies with useritem_order_days_min_n5"
   ]
  },
  {
   "cell_type": "code",
   "execution_count": 22,
   "metadata": {},
   "outputs": [
    {
     "data": {
      "image/png": "[encoded data removed]",
      "text/plain": [
       "<matplotlib.figure.Figure at 0x10bc9e390>"
      ]
     },
     "metadata": {},
     "output_type": "display_data"
    }
   ],
   "source": [
    "create_bivariate_plot('useritem_order_days_min_n5')"
   ]
  }
 ],
 "metadata": {
  "kernelspec": {
   "display_name": "Python 3",
   "language": "python",
   "name": "python3"
  },
  "language_info": {
   "codemirror_mode": {
    "name": "ipython",
    "version": 3
   },
   "file_extension": ".py",
   "mimetype": "text/x-python",
   "name": "python",
   "nbconvert_exporter": "python",
   "pygments_lexer": "ipython3",
   "version": "3.6.1"
  }
 },
 "nbformat": 4,
 "nbformat_minor": 2
}
