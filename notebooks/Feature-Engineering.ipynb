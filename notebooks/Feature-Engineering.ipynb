{
 "cells": [
  {
   "cell_type": "markdown",
   "metadata": {},
   "source": [
    "# Instacart Feature Engineering"
   ]
  },
  {
   "cell_type": "markdown",
   "metadata": {},
   "source": [
    "In this notebook, we will engineer the target variable and five explanatory variables.\n",
    "\n",
    "#### The target variable\n",
    "\n",
    "We will create a list of unique pairs of users and products from the `prior` set of orders.  We will use this list, which we label as \"`up_pair`\", as the index of our final data table.\n",
    "\n",
    "For each unique pair of user and product from the `prior` set of orders, if the user bought the product in the  `prior` set of orders *and* in the `train` set of orders, then our target variable `y` is assigned the value 1.  On the other hand, if the user bought the product in the  `prior` set, but they didn't buy the product in the `train` set, then our target variable `y` is assigned the value 0.\n",
    "\n",
    "\n",
    "#### The explanatory variables\n",
    "\n",
    "The five explanatory features that we engineer are as follows:\n",
    "\n",
    "Given the user-product pair of (User A, Product B),\n",
    "\n",
    "1. `total_buy_n5`: the total number of times User A bought Product B out of the 5 most recent orders.\n",
    "\n",
    "2. `total_buy_ratio_n5`: the proportion of User A's 5 most recent orders in which User A bought Product B.\n",
    "\n",
    "3. `order_ratio_by_chance_n5`: the proportion of User A's 5 most recent orders in which User A had the \"chance\" to buy B, and did indeed do so.  Here, a \"chance\" refers to the number of opportunities the user had for buying the item after first encountering (*viz.*, buying)  it. For example, if a User A bought Product B for the first time in their 4th most recent order, then the user would have had 4 chances to buy the product.  If that user had bought the product only in their 4th and 2nd most recent orders, then `order_ratio_by_chance_n5` would be 0.5 (*i.e., (1+1)/4) for that user-product pair.\n",
    "\n",
    "4. `useritem_order_days_max_n5`: the longest number of days that User A has recently gone without buying Product B.  We are only considering the 5 most recent orders.\n",
    "\n",
    "5. `useritem_order_days_min_n5`: the shortest number of days that User A has recently gone without buying Product B.  Again, we are only considering the 5 most recent orders.\n",
    "\n",
    "\n",
    "The choice of these five features was inspired by [Onodera's solution](http://blog.kaggle.com/2017/09/21/instacart-market-basket-analysis-winners-interview-2nd-place-kazuki-onodera/]), which won 2nd place in the Instacart Kaggle competition."
   ]
  },
  {
   "cell_type": "markdown",
   "metadata": {},
   "source": [
    "#### Comments on notation:\n",
    "\n",
    "In what follows, \n",
    "+ \"`_n5`\" *generally* stands for the 5 most recent orders.\n",
    "+ \"`_n1`\" stands for the most recent order.\n",
    "+ \"`_n2`\" stands for the second most recent order.\n",
    "+ ...\n",
    "+ \"`_n5`\" *sometimes* stands for the fifth most recent order.\n"
   ]
  },
  {
   "cell_type": "markdown",
   "metadata": {},
   "source": [
    "### Import libraries and modify notebook settings"
   ]
  },
  {
   "cell_type": "code",
   "execution_count": 2,
   "metadata": {
    "collapsed": true
   },
   "outputs": [],
   "source": [
    "# Import libraries\n",
    "import os\n",
    "import sys\n",
    "import sqlite3\n",
    "from sqlalchemy import create_engine\n",
    "from sqlalchemy.engine.reflection import Inspector\n",
    "import csv\n",
    "import pandas as pd\n",
    "from shutil import copy2\n",
    "#import datetime\n",
    "\n",
    "# Modify notebook settings\n",
    "pd.options.display.max_columns = 100\n",
    "pd.options.display.max_rows = 100"
   ]
  },
  {
   "cell_type": "markdown",
   "metadata": {},
   "source": [
    "### Create paths to data folders and files"
   ]
  },
  {
   "cell_type": "code",
   "execution_count": 3,
   "metadata": {
    "collapsed": true
   },
   "outputs": [],
   "source": [
    "# Create a variable for the project root directory\n",
    "proj_root = os.path.join(os.pardir)\n",
    "\n",
    "# Save the path to the folder that will contain the intermediate data \n",
    "# that will be transformed: /data/interim\n",
    "interim_data_dir = os.path.join(proj_root,\n",
    "                                \"data\",\n",
    "                                \"interim\")\n",
    "\n",
    "# Save the path to the SQLite databse containing the untransformed\n",
    "# Instacart data\n",
    "db_name = 'instacart_2017_05_01.db'\n",
    "\n",
    "interim_sqlitedb_path = os.path.join(interim_data_dir,\n",
    "                                     db_name)\n",
    "\n",
    "interim_sqlitedb_eng = os.path.join('sqlite:///',\n",
    "                                    interim_sqlitedb_path)\n",
    "\n",
    "# Save the path to the SQLite database that will contain the transformed\n",
    "# Instacart data\n",
    "db_name_tf = 'instacart_transformed.db'\n",
    "\n",
    "transformed_sqlitedb_path = os.path.join(interim_data_dir,\n",
    "                                         db_name_tf)\n",
    "\n",
    "# Save the engine path to the SQLite database that will contain the \n",
    "# transformed Instacart data\n",
    "transformed_sqlitedb_eng = os.path.join('sqlite:///',\n",
    "                                        transformed_sqlitedb_path)\n",
    "\n",
    "\n",
    "# Save the path to the folder that will contain the final,\n",
    "# processed data: /data/processed\n",
    "processed_data_dir = os.path.join(proj_root,\n",
    "                                \"data\",\n",
    "                                \"processed\")\n",
    "\n",
    "# Save the path to the csv file that will contain the final,\n",
    "# processed Instacart data\n",
    "final_csv_name = 'instacart_final.csv'\n",
    "\n",
    "final_csv_path = os.path.join(processed_data_dir,\n",
    "                              final_csv_name)"
   ]
  },
  {
   "cell_type": "markdown",
   "metadata": {},
   "source": [
    "### Make a copy of the untransformed database.\n",
    "We will transform this copy while leaving the first database untampered."
   ]
  },
  {
   "cell_type": "code",
   "execution_count": 3,
   "metadata": {},
   "outputs": [
    {
     "data": {
      "text/plain": [
       "'../data/interim/instacart_transformed.db'"
      ]
     },
     "execution_count": 3,
     "metadata": {},
     "output_type": "execute_result"
    }
   ],
   "source": [
    "copy2(interim_sqlitedb_path, transformed_sqlitedb_path)"
   ]
  },
  {
   "cell_type": "markdown",
   "metadata": {},
   "source": [
    "### Read data from sqlite database"
   ]
  },
  {
   "cell_type": "code",
   "execution_count": 4,
   "metadata": {
    "collapsed": true
   },
   "outputs": [],
   "source": [
    "# Create a sqlite3 connection cursor\n",
    "conn = sqlite3.connect(transformed_sqlitedb_path)\n",
    "c = conn.cursor()"
   ]
  },
  {
   "cell_type": "code",
   "execution_count": 5,
   "metadata": {
    "collapsed": true
   },
   "outputs": [],
   "source": [
    "# Create an engine to the new SQLite database \n",
    "engine = create_engine(transformed_sqlitedb_eng, echo=False)"
   ]
  },
  {
   "cell_type": "code",
   "execution_count": 6,
   "metadata": {},
   "outputs": [
    {
     "data": {
      "text/plain": [
       "['aisles',\n",
       " 'departments',\n",
       " 'order_products__prior',\n",
       " 'order_products__train',\n",
       " 'orders',\n",
       " 'products']"
      ]
     },
     "execution_count": 6,
     "metadata": {},
     "output_type": "execute_result"
    }
   ],
   "source": [
    "# List table names\n",
    "engine.table_names()"
   ]
  },
  {
   "cell_type": "code",
   "execution_count": 7,
   "metadata": {},
   "outputs": [
    {
     "data": {
      "text/plain": [
       "[]"
      ]
     },
     "execution_count": 7,
     "metadata": {},
     "output_type": "execute_result"
    }
   ],
   "source": [
    "# List view names\n",
    "Inspector.from_engine(engine).get_view_names()"
   ]
  },
  {
   "cell_type": "markdown",
   "metadata": {},
   "source": [
    "### Transform the data and create new views and tables"
   ]
  },
  {
   "cell_type": "code",
   "execution_count": 8,
   "metadata": {
    "collapsed": true
   },
   "outputs": [],
   "source": [
    "# Create table\n",
    "c.execute('''CREATE TABLE up_pairs_train AS\n",
    "             SELECT substr('00'||orders.user_id, -6) || '-' || \n",
    "                 substr('0000'||order_products__train.product_id, -6) AS up_pair\n",
    "             FROM order_products__train\n",
    "             JOIN orders\n",
    "             ON orders.order_id = order_products__train.order_id\n",
    "             GROUP BY up_pair\n",
    "             ORDER BY user_id ASC, product_id ASC''')\n",
    "\n",
    "# Save (commit) the changes\n",
    "conn.commit()"
   ]
  },
  {
   "cell_type": "code",
   "execution_count": 9,
   "metadata": {
    "collapsed": true
   },
   "outputs": [],
   "source": [
    "# Create table\n",
    "c.execute('''CREATE TABLE up_pairs_prior AS\n",
    "             SELECT substr('00'||orders.user_id, -6) || '-' || \n",
    "                 substr('0000'||order_products__prior.product_id, -6) AS up_pair,\n",
    "                 orders.user_id AS user_id, \n",
    "                 order_products__prior.product_id AS product_id,\n",
    "                 orders.order_number AS order_number\n",
    "             FROM order_products__prior\n",
    "             JOIN orders\n",
    "             ON orders.order_id = order_products__prior.order_id\n",
    "             ORDER BY user_id ASC, product_id ASC''')\n",
    "\n",
    "# Save (commit) the changes\n",
    "conn.commit()"
   ]
  },
  {
   "cell_type": "code",
   "execution_count": 10,
   "metadata": {
    "collapsed": true
   },
   "outputs": [],
   "source": [
    "# Create table\n",
    "c.execute('''CREATE TABLE max_order_by_user AS\n",
    "             SELECT user_id, MAX(order_number) AS max_order_number\n",
    "             FROM up_pairs_prior\n",
    "             GROUP BY user_id\n",
    "             ORDER BY user_id ASC''')\n",
    "\n",
    "# Save (commit) the changes\n",
    "conn.commit()"
   ]
  },
  {
   "cell_type": "code",
   "execution_count": 11,
   "metadata": {
    "collapsed": true
   },
   "outputs": [],
   "source": [
    "# Create table\n",
    "c.execute('''CREATE TABLE up_pairs_prior_modified AS\n",
    "             SELECT up_pairs_prior.*, \n",
    "             max_order_by_user.max_order_number,\n",
    "             (1 + max_order_by_user.max_order_number - up_pairs_prior.order_number) AS order_number_rev\n",
    "             FROM up_pairs_prior\n",
    "             JOIN max_order_by_user\n",
    "             ON max_order_by_user.user_id = up_pairs_prior.user_id''')\n",
    "\n",
    "# Save (commit) the changes\n",
    "conn.commit()"
   ]
  },
  {
   "cell_type": "code",
   "execution_count": 12,
   "metadata": {
    "collapsed": true
   },
   "outputs": [],
   "source": [
    "# Create table\n",
    "c.execute('''CREATE TABLE first_data_table AS\n",
    "             SELECT up_pairs_prior_modified.up_pair AS up_pair,\n",
    "                 up_pairs_prior_modified.user_id AS user_id, \n",
    "                 up_pairs_prior_modified.product_id AS product_id, \n",
    "                 CASE WHEN up_pairs_train.up_pair IS NULL THEN 0 ELSE 1 END as 'y',\n",
    "                 SUM(CASE WHEN (order_number_rev <= 5) THEN 1 ELSE 0 END) AS total_buy_n5,    \n",
    "                 SUM(CASE WHEN (order_number_rev <= 5) THEN 1 ELSE 0 END) / 5.0 AS total_buy_ratio_n5,                 \n",
    "                 MAX(order_number_rev) AS max_order_number_rev,\n",
    "                 CASE WHEN MAX(order_number_rev) > 5\n",
    "                     THEN (SUM(CASE WHEN (order_number_rev <= 5) THEN 1 ELSE 0 END) / 5.0)\n",
    "                     ELSE (SUM(CASE WHEN (order_number_rev <= 5) THEN 1 ELSE 0 END) /\n",
    "                         (MAX(order_number_rev) * 1.0))\n",
    "                     END AS order_ratio_by_chance_n5                     \n",
    "             FROM up_pairs_prior_modified\n",
    "             LEFT JOIN up_pairs_train ON up_pairs_train.up_pair = up_pairs_prior_modified.up_pair\n",
    "             GROUP BY up_pairs_prior_modified.up_pair''')\n",
    "\n",
    "# Save (commit) the changes\n",
    "conn.commit()"
   ]
  },
  {
   "cell_type": "code",
   "execution_count": 13,
   "metadata": {
    "collapsed": true
   },
   "outputs": [],
   "source": [
    "# Create table\n",
    "c.execute('''CREATE VIEW n5_view AS\n",
    "             SELECT user_id, \n",
    "                 MAX(order_number) AS order_number_n1,\n",
    "                 CASE WHEN (MAX(order_number) - 1) < 1 THEN NULL \n",
    "                     ELSE (MAX(order_number) - 1) END AS order_number_n2,\n",
    "                 CASE WHEN (MAX(order_number) - 2) < 1 THEN NULL \n",
    "                     ELSE (MAX(order_number) - 2) END AS order_number_n3,\n",
    "                 CASE WHEN (MAX(order_number) - 3) < 1 THEN NULL \n",
    "                     ELSE (MAX(order_number) - 3) END AS order_number_n4,\n",
    "                 CASE WHEN (MAX(order_number) - 4) < 1 THEN NULL \n",
    "                     ELSE (MAX(order_number) - 4) END AS order_number_n5\n",
    "             FROM orders\n",
    "             WHERE eval_set = 'prior'\n",
    "             GROUP BY user_id''')\n",
    "\n",
    "# Save (commit) the changes\n",
    "conn.commit()"
   ]
  },
  {
   "cell_type": "code",
   "execution_count": 14,
   "metadata": {
    "collapsed": true
   },
   "outputs": [],
   "source": [
    "# Create table\n",
    "c.execute('''CREATE TABLE n5_table AS\n",
    "             SELECT n5_view.user_id,\n",
    "                 orders_t1.order_id AS order_id_n1,\n",
    "                 orders_t2.order_id AS order_id_n2,\n",
    "                 orders_t3.order_id AS order_id_n3,\n",
    "                 orders_t4.order_id AS order_id_n4,\n",
    "                 orders_t5.order_id AS order_id_n5,\n",
    "                 orders_t1.days_since_prior_order AS days_since_prior_order_n1,\n",
    "                 orders_t2.days_since_prior_order AS days_since_prior_order_n2,\n",
    "                 orders_t3.days_since_prior_order AS days_since_prior_order_n3,\n",
    "                 orders_t4.days_since_prior_order AS days_since_prior_order_n4,\n",
    "                 orders_t5.days_since_prior_order AS days_since_prior_order_n5\n",
    "             FROM n5_view\n",
    "                 LEFT JOIN orders AS orders_t1\n",
    "                 ON (orders_t1.user_id = n5_view.user_id\n",
    "                     AND orders_t1.order_number = n5_view.order_number_n1)\n",
    "                 LEFT JOIN orders AS orders_t2\n",
    "                 ON (orders_t2.user_id = n5_view.user_id\n",
    "                     AND orders_t2.order_number = n5_view.order_number_n2)\n",
    "                 LEFT JOIN orders AS orders_t3\n",
    "                 ON (orders_t3.user_id = n5_view.user_id\n",
    "                     AND orders_t3.order_number = n5_view.order_number_n3)\n",
    "                 LEFT JOIN orders AS orders_t4\n",
    "                 ON (orders_t4.user_id = n5_view.user_id\n",
    "                     AND orders_t4.order_number = n5_view.order_number_n4)\n",
    "                 LEFT JOIN orders AS orders_t5\n",
    "                 ON (orders_t5.user_id = n5_view.user_id\n",
    "                     AND orders_t5.order_number = n5_view.order_number_n5)''')\n",
    "\n",
    "# Save (commit) the changes\n",
    "conn.commit()"
   ]
  },
  {
   "cell_type": "code",
   "execution_count": 15,
   "metadata": {
    "collapsed": true
   },
   "outputs": [],
   "source": [
    "# Create table\n",
    "c.execute('''CREATE TABLE new_table AS\n",
    "             SELECT first_data_table.*,\n",
    "                 n5_table.order_id_n1,\n",
    "                 n5_table.order_id_n2,\n",
    "                 n5_table.order_id_n3,\n",
    "                 n5_table.order_id_n4,\n",
    "                 n5_table.order_id_n5\n",
    "             FROM first_data_table\n",
    "             LEFT JOIN n5_table\n",
    "             ON (n5_table.user_id = first_data_table.user_id)\n",
    "             ''')\n",
    "\n",
    "# Save (commit) the changes\n",
    "conn.commit()"
   ]
  },
  {
   "cell_type": "code",
   "execution_count": 16,
   "metadata": {
    "collapsed": true
   },
   "outputs": [],
   "source": [
    "# Create table\n",
    "c.execute('''CREATE TABLE new_table_2 AS\n",
    "             SELECT new_table.up_pair,\n",
    "                 new_table.y,\n",
    "                 new_table.total_buy_n5,\n",
    "                 new_table.total_buy_ratio_n5,\n",
    "                 new_table.order_ratio_by_chance_n5,                 \n",
    "                 n5_table.days_since_prior_order_n1,\n",
    "                 n5_table.days_since_prior_order_n2,\n",
    "                 n5_table.days_since_prior_order_n3,\n",
    "                 n5_table.days_since_prior_order_n4,\n",
    "                 n5_table.days_since_prior_order_n5,                 \n",
    "                 CASE WHEN order_products__prior_1.product_id IS NULL THEN 0 ELSE 1 END as bought_n1,\n",
    "                 CASE WHEN order_products__prior_2.product_id IS NULL THEN 0 ELSE 1 END as bought_n2,\n",
    "                 CASE WHEN order_products__prior_3.product_id IS NULL THEN 0 ELSE 1 END as bought_n3,\n",
    "                 CASE WHEN order_products__prior_4.product_id IS NULL THEN 0 ELSE 1 END as bought_n4,\n",
    "                 CASE WHEN order_products__prior_5.product_id IS NULL THEN 0 ELSE 1 END as bought_n5\n",
    "             FROM new_table\n",
    "             LEFT JOIN n5_table\n",
    "                 ON (n5_table.user_id = new_table.user_id)\n",
    "             LEFT JOIN order_products__prior AS order_products__prior_1\n",
    "                 ON (order_products__prior_1.order_id = new_table.order_id_n1\n",
    "                     AND order_products__prior_1.product_id = new_table.product_id)\n",
    "             LEFT JOIN order_products__prior AS order_products__prior_2\n",
    "                 ON (order_products__prior_2.order_id = new_table.order_id_n2\n",
    "                     AND order_products__prior_2.product_id = new_table.product_id)\n",
    "             LEFT JOIN order_products__prior AS order_products__prior_3\n",
    "                 ON (order_products__prior_3.order_id = new_table.order_id_n3\n",
    "                     AND order_products__prior_3.product_id = new_table.product_id)\n",
    "             LEFT JOIN order_products__prior AS order_products__prior_4\n",
    "                 ON (order_products__prior_4.order_id = new_table.order_id_n4\n",
    "                     AND order_products__prior_4.product_id = new_table.product_id)\n",
    "             LEFT JOIN order_products__prior AS order_products__prior_5\n",
    "                 ON (order_products__prior_5.order_id = new_table.order_id_n5\n",
    "                     AND order_products__prior_5.product_id = new_table.product_id)\n",
    "             ''')\n",
    "\n",
    "# Save (commit) the changes\n",
    "conn.commit()"
   ]
  },
  {
   "cell_type": "code",
   "execution_count": 17,
   "metadata": {
    "collapsed": true
   },
   "outputs": [],
   "source": [
    "# Create table\n",
    "c.execute('''CREATE TABLE new_table_3 AS\n",
    "             SELECT up_pair, \n",
    "                 y, \n",
    "                 total_buy_n5, \n",
    "                 total_buy_ratio_n5, \n",
    "                 order_ratio_by_chance_n5,                 \n",
    "                 \n",
    "                 MAX(IFNULL(order_days_n1, 0), \n",
    "                     IFNULL(order_days_n2, 0),\n",
    "                     IFNULL(order_days_n3, 0),\n",
    "                     IFNULL(order_days_n4, 0),\n",
    "                     IFNULL(order_days_n5, 0)) AS useritem_order_days_max_n5,\n",
    "                     \n",
    "                 CASE WHEN days_since_prior_order_n5 IS NULL THEN\n",
    "                     MIN(IFNULL(order_days_n1, 1000000), \n",
    "                         IFNULL(order_days_n2, 1000000),\n",
    "                         IFNULL(order_days_n3, 1000000),\n",
    "                         IFNULL(order_days_n4, 1000000),\n",
    "                         MAX(IFNULL(order_days_n1, 0), \n",
    "                             IFNULL(order_days_n2, 0),\n",
    "                             IFNULL(order_days_n3, 0),\n",
    "                             IFNULL(order_days_n4, 0),\n",
    "                             IFNULL(order_days_n5, 0)))  \n",
    "                     ELSE\n",
    "                     MIN(IFNULL(order_days_n1, 1000000), \n",
    "                         IFNULL(order_days_n2, 1000000),\n",
    "                         IFNULL(order_days_n3, 1000000),\n",
    "                         IFNULL(order_days_n4, 1000000),\n",
    "                         order_days_n5)\n",
    "                     END AS useritem_order_days_min_n5\n",
    "\n",
    "             FROM \n",
    "             (\n",
    "                 SELECT *,\n",
    "                     CASE WHEN bought_n1 = 0 THEN NULL\n",
    "                         ELSE days_since_prior_order_n1\n",
    "                         END AS order_days_n1,\n",
    "                 \n",
    "                     CASE WHEN bought_n2 = 0 THEN NULL\n",
    "                         ELSE CASE WHEN bought_n1 = 0 THEN\n",
    "                             (days_since_prior_order_n1 + days_since_prior_order_n2)\n",
    "                             ELSE days_since_prior_order_n2\n",
    "                             END\n",
    "                         END AS order_days_n2,\n",
    "                 \n",
    "                     CASE WHEN bought_n3 = 0 THEN NULL\n",
    "                         ELSE \n",
    "                         CASE WHEN bought_n2 = 0 THEN \n",
    "                             CASE WHEN bought_n1 = 0 THEN\n",
    "                                 (days_since_prior_order_n1 + days_since_prior_order_n2 +\n",
    "                                 days_since_prior_order_n3)\n",
    "                                 ELSE (days_since_prior_order_n2 + days_since_prior_order_n3) \n",
    "                                 END                    \n",
    "                             ELSE days_since_prior_order_n3\n",
    "                             END\n",
    "                         END AS order_days_n3,\n",
    "                         \n",
    "                     CASE WHEN bought_n4 = 0 THEN NULL\n",
    "                         ELSE \n",
    "                         CASE WHEN bought_n3 = 0 THEN\n",
    "                             CASE WHEN bought_n2 = 0 THEN\n",
    "                                 CASE WHEN bought_n1 = 0 THEN\n",
    "                                     (days_since_prior_order_n1 + days_since_prior_order_n2 +\n",
    "                                         days_since_prior_order_n3 + days_since_prior_order_n4)\n",
    "                                     ELSE (days_since_prior_order_n2 + days_since_prior_order_n3 +\n",
    "                                         days_since_prior_order_n4) \n",
    "                                     END                    \n",
    "                                 ELSE (days_since_prior_order_n3 + days_since_prior_order_n4)\n",
    "                                 END\n",
    "                             ELSE days_since_prior_order_n4\n",
    "                             END\n",
    "                         END AS order_days_n4,\n",
    "                         \n",
    "                     CASE WHEN bought_n4 = 0 THEN\n",
    "                         CASE WHEN bought_n3 = 0 THEN\n",
    "                             CASE WHEN bought_n2 = 0 THEN\n",
    "                                 CASE WHEN bought_n1 = 0 THEN\n",
    "                                     (days_since_prior_order_n1 + days_since_prior_order_n2 +\n",
    "                                         days_since_prior_order_n3 + days_since_prior_order_n4 + \n",
    "                                         IFNULL(days_since_prior_order_n5, 0))\n",
    "                                     ELSE (days_since_prior_order_n2 + days_since_prior_order_n3 +\n",
    "                                         days_since_prior_order_n4 + \n",
    "                                         IFNULL(days_since_prior_order_n5, 0)) \n",
    "                                     END                    \n",
    "                                 ELSE (days_since_prior_order_n3 + days_since_prior_order_n4 + \n",
    "                                     IFNULL(days_since_prior_order_n5, 0))\n",
    "                                 END\n",
    "                             ELSE (days_since_prior_order_n4 + IFNULL(days_since_prior_order_n5, 0))\n",
    "                             END\n",
    "                         ELSE IFNULL(days_since_prior_order_n5, 0)\n",
    "                         END AS order_days_n5\n",
    "             \n",
    "                 FROM new_table_2\n",
    "             )\n",
    "             GROUP BY up_pair\n",
    "             ''')\n",
    "\n",
    "# Save (commit) the changes\n",
    "conn.commit()"
   ]
  },
  {
   "cell_type": "markdown",
   "metadata": {},
   "source": [
    "# Save `new_table_3` to csv file as `final_data_table`"
   ]
  },
  {
   "cell_type": "code",
   "execution_count": 18,
   "metadata": {},
   "outputs": [
    {
     "data": {
      "text/html": [
       "<div>\n",
       "<style>\n",
       "    .dataframe thead tr:only-child th {\n",
       "        text-align: right;\n",
       "    }\n",
       "\n",
       "    .dataframe thead th {\n",
       "        text-align: left;\n",
       "    }\n",
       "\n",
       "    .dataframe tbody tr th {\n",
       "        vertical-align: top;\n",
       "    }\n",
       "</style>\n",
       "<table border=\"1\" class=\"dataframe\">\n",
       "  <thead>\n",
       "    <tr style=\"text-align: right;\">\n",
       "      <th></th>\n",
       "      <th>up_pair</th>\n",
       "      <th>y</th>\n",
       "      <th>total_buy_n5</th>\n",
       "      <th>total_buy_ratio_n5</th>\n",
       "      <th>order_ratio_by_chance_n5</th>\n",
       "      <th>useritem_order_days_max_n5</th>\n",
       "      <th>useritem_order_days_min_n5</th>\n",
       "    </tr>\n",
       "  </thead>\n",
       "  <tbody>\n",
       "    <tr>\n",
       "      <th>0</th>\n",
       "      <td>001-000196</td>\n",
       "      <td>1</td>\n",
       "      <td>5</td>\n",
       "      <td>1.0</td>\n",
       "      <td>1.0</td>\n",
       "      <td>30.0</td>\n",
       "      <td>0.0</td>\n",
       "    </tr>\n",
       "    <tr>\n",
       "      <th>1</th>\n",
       "      <td>001-010258</td>\n",
       "      <td>1</td>\n",
       "      <td>5</td>\n",
       "      <td>1.0</td>\n",
       "      <td>1.0</td>\n",
       "      <td>30.0</td>\n",
       "      <td>0.0</td>\n",
       "    </tr>\n",
       "    <tr>\n",
       "      <th>2</th>\n",
       "      <td>001-010326</td>\n",
       "      <td>0</td>\n",
       "      <td>0</td>\n",
       "      <td>0.0</td>\n",
       "      <td>0.0</td>\n",
       "      <td>83.0</td>\n",
       "      <td>83.0</td>\n",
       "    </tr>\n",
       "    <tr>\n",
       "      <th>3</th>\n",
       "      <td>001-012427</td>\n",
       "      <td>0</td>\n",
       "      <td>5</td>\n",
       "      <td>1.0</td>\n",
       "      <td>1.0</td>\n",
       "      <td>30.0</td>\n",
       "      <td>0.0</td>\n",
       "    </tr>\n",
       "    <tr>\n",
       "      <th>4</th>\n",
       "      <td>001-013032</td>\n",
       "      <td>1</td>\n",
       "      <td>2</td>\n",
       "      <td>0.4</td>\n",
       "      <td>0.4</td>\n",
       "      <td>34.0</td>\n",
       "      <td>19.0</td>\n",
       "    </tr>\n",
       "  </tbody>\n",
       "</table>\n",
       "</div>"
      ],
      "text/plain": [
       "      up_pair  y  total_buy_n5  total_buy_ratio_n5  order_ratio_by_chance_n5  \\\n",
       "0  001-000196  1             5                 1.0                       1.0   \n",
       "1  001-010258  1             5                 1.0                       1.0   \n",
       "2  001-010326  0             0                 0.0                       0.0   \n",
       "3  001-012427  0             5                 1.0                       1.0   \n",
       "4  001-013032  1             2                 0.4                       0.4   \n",
       "\n",
       "   useritem_order_days_max_n5  useritem_order_days_min_n5  \n",
       "0                        30.0                         0.0  \n",
       "1                        30.0                         0.0  \n",
       "2                        83.0                        83.0  \n",
       "3                        30.0                         0.0  \n",
       "4                        34.0                        19.0  "
      ]
     },
     "execution_count": 18,
     "metadata": {},
     "output_type": "execute_result"
    }
   ],
   "source": [
    "sql_query = \\\n",
    "\"\"\"\n",
    "SELECT *\n",
    "FROM new_table_3\n",
    "LIMIT 5\n",
    "\"\"\"\n",
    "\n",
    "temp_df = pd.read_sql_query(sql=sql_query, con=engine)\n",
    "temp_df"
   ]
  },
  {
   "cell_type": "code",
   "execution_count": 19,
   "metadata": {},
   "outputs": [
    {
     "data": {
      "text/plain": [
       "['up_pair',\n",
       " 'y',\n",
       " 'total_buy_n5',\n",
       " 'total_buy_ratio_n5',\n",
       " 'order_ratio_by_chance_n5',\n",
       " 'useritem_order_days_max_n5',\n",
       " 'useritem_order_days_min_n5']"
      ]
     },
     "execution_count": 19,
     "metadata": {},
     "output_type": "execute_result"
    }
   ],
   "source": [
    "# Create a list of column names\n",
    "col_names = [x['name'] for x in Inspector.from_engine(engine).get_columns('new_table_3')]\n",
    "col_names"
   ]
  },
  {
   "cell_type": "code",
   "execution_count": 20,
   "metadata": {
    "collapsed": true
   },
   "outputs": [],
   "source": [
    "# Create the csv file that will contain the final, processed Instacart data\n",
    "data = c.execute(\"SELECT * FROM new_table_3\")\n",
    "with open(final_csv_path, 'w') as f:\n",
    "    writer = csv.writer(f)\n",
    "    writer.writerow(col_names)\n",
    "    writer.writerows(data)"
   ]
  },
  {
   "cell_type": "markdown",
   "metadata": {},
   "source": [
    "### Check that it wrote to the file."
   ]
  },
  {
   "cell_type": "code",
   "execution_count": 6,
   "metadata": {},
   "outputs": [
    {
     "data": {
      "text/html": [
       "<div>\n",
       "<style>\n",
       "    .dataframe thead tr:only-child th {\n",
       "        text-align: right;\n",
       "    }\n",
       "\n",
       "    .dataframe thead th {\n",
       "        text-align: left;\n",
       "    }\n",
       "\n",
       "    .dataframe tbody tr th {\n",
       "        vertical-align: top;\n",
       "    }\n",
       "</style>\n",
       "<table border=\"1\" class=\"dataframe\">\n",
       "  <thead>\n",
       "    <tr style=\"text-align: right;\">\n",
       "      <th></th>\n",
       "      <th>y</th>\n",
       "      <th>total_buy_n5</th>\n",
       "      <th>total_buy_ratio_n5</th>\n",
       "      <th>order_ratio_by_chance_n5</th>\n",
       "      <th>useritem_order_days_max_n5</th>\n",
       "      <th>useritem_order_days_min_n5</th>\n",
       "    </tr>\n",
       "    <tr>\n",
       "      <th>up_pair</th>\n",
       "      <th></th>\n",
       "      <th></th>\n",
       "      <th></th>\n",
       "      <th></th>\n",
       "      <th></th>\n",
       "      <th></th>\n",
       "    </tr>\n",
       "  </thead>\n",
       "  <tbody>\n",
       "    <tr>\n",
       "      <th>001-000196</th>\n",
       "      <td>1</td>\n",
       "      <td>5</td>\n",
       "      <td>1.0</td>\n",
       "      <td>1.0</td>\n",
       "      <td>30.0</td>\n",
       "      <td>0.0</td>\n",
       "    </tr>\n",
       "    <tr>\n",
       "      <th>001-010258</th>\n",
       "      <td>1</td>\n",
       "      <td>5</td>\n",
       "      <td>1.0</td>\n",
       "      <td>1.0</td>\n",
       "      <td>30.0</td>\n",
       "      <td>0.0</td>\n",
       "    </tr>\n",
       "    <tr>\n",
       "      <th>001-010326</th>\n",
       "      <td>0</td>\n",
       "      <td>0</td>\n",
       "      <td>0.0</td>\n",
       "      <td>0.0</td>\n",
       "      <td>83.0</td>\n",
       "      <td>83.0</td>\n",
       "    </tr>\n",
       "    <tr>\n",
       "      <th>001-012427</th>\n",
       "      <td>0</td>\n",
       "      <td>5</td>\n",
       "      <td>1.0</td>\n",
       "      <td>1.0</td>\n",
       "      <td>30.0</td>\n",
       "      <td>0.0</td>\n",
       "    </tr>\n",
       "    <tr>\n",
       "      <th>001-013032</th>\n",
       "      <td>1</td>\n",
       "      <td>2</td>\n",
       "      <td>0.4</td>\n",
       "      <td>0.4</td>\n",
       "      <td>34.0</td>\n",
       "      <td>19.0</td>\n",
       "    </tr>\n",
       "    <tr>\n",
       "      <th>001-013176</th>\n",
       "      <td>0</td>\n",
       "      <td>0</td>\n",
       "      <td>0.0</td>\n",
       "      <td>0.0</td>\n",
       "      <td>83.0</td>\n",
       "      <td>83.0</td>\n",
       "    </tr>\n",
       "    <tr>\n",
       "      <th>001-014084</th>\n",
       "      <td>0</td>\n",
       "      <td>0</td>\n",
       "      <td>0.0</td>\n",
       "      <td>0.0</td>\n",
       "      <td>83.0</td>\n",
       "      <td>83.0</td>\n",
       "    </tr>\n",
       "    <tr>\n",
       "      <th>001-017122</th>\n",
       "      <td>0</td>\n",
       "      <td>0</td>\n",
       "      <td>0.0</td>\n",
       "      <td>0.0</td>\n",
       "      <td>83.0</td>\n",
       "      <td>83.0</td>\n",
       "    </tr>\n",
       "    <tr>\n",
       "      <th>001-025133</th>\n",
       "      <td>1</td>\n",
       "      <td>5</td>\n",
       "      <td>1.0</td>\n",
       "      <td>1.0</td>\n",
       "      <td>30.0</td>\n",
       "      <td>0.0</td>\n",
       "    </tr>\n",
       "    <tr>\n",
       "      <th>001-026088</th>\n",
       "      <td>1</td>\n",
       "      <td>0</td>\n",
       "      <td>0.0</td>\n",
       "      <td>0.0</td>\n",
       "      <td>83.0</td>\n",
       "      <td>83.0</td>\n",
       "    </tr>\n",
       "  </tbody>\n",
       "</table>\n",
       "</div>"
      ],
      "text/plain": [
       "            y  total_buy_n5  total_buy_ratio_n5  order_ratio_by_chance_n5  \\\n",
       "up_pair                                                                     \n",
       "001-000196  1             5                 1.0                       1.0   \n",
       "001-010258  1             5                 1.0                       1.0   \n",
       "001-010326  0             0                 0.0                       0.0   \n",
       "001-012427  0             5                 1.0                       1.0   \n",
       "001-013032  1             2                 0.4                       0.4   \n",
       "001-013176  0             0                 0.0                       0.0   \n",
       "001-014084  0             0                 0.0                       0.0   \n",
       "001-017122  0             0                 0.0                       0.0   \n",
       "001-025133  1             5                 1.0                       1.0   \n",
       "001-026088  1             0                 0.0                       0.0   \n",
       "\n",
       "            useritem_order_days_max_n5  useritem_order_days_min_n5  \n",
       "up_pair                                                             \n",
       "001-000196                        30.0                         0.0  \n",
       "001-010258                        30.0                         0.0  \n",
       "001-010326                        83.0                        83.0  \n",
       "001-012427                        30.0                         0.0  \n",
       "001-013032                        34.0                        19.0  \n",
       "001-013176                        83.0                        83.0  \n",
       "001-014084                        83.0                        83.0  \n",
       "001-017122                        83.0                        83.0  \n",
       "001-025133                        30.0                         0.0  \n",
       "001-026088                        83.0                        83.0  "
      ]
     },
     "execution_count": 6,
     "metadata": {},
     "output_type": "execute_result"
    }
   ],
   "source": [
    "temp_df = pd.read_csv(final_csv_path, \n",
    "                      index_col=0, \n",
    "                      nrows=10).head(10)\n",
    "temp_df.head(10)"
   ]
  }
 ],
 "metadata": {
  "kernelspec": {
   "display_name": "Python 3",
   "language": "python",
   "name": "python3"
  },
  "language_info": {
   "codemirror_mode": {
    "name": "ipython",
    "version": 3
   },
   "file_extension": ".py",
   "mimetype": "text/x-python",
   "name": "python",
   "nbconvert_exporter": "python",
   "pygments_lexer": "ipython3",
   "version": "3.6.1"
  }
 },
 "nbformat": 4,
 "nbformat_minor": 2
}
