{
 "cells": [
  {
   "cell_type": "markdown",
   "metadata": {},
   "source": [
    "### Import libraries and modify notebook settings"
   ]
  },
  {
   "cell_type": "code",
   "execution_count": 1,
   "metadata": {},
   "outputs": [
    {
     "name": "stderr",
     "output_type": "stream",
     "text": [
      "/anaconda/lib/python3.6/site-packages/sklearn/cross_validation.py:41: DeprecationWarning: This module was deprecated in version 0.18 in favor of the model_selection module into which all the refactored classes and functions are moved. Also note that the interface of the new CV iterators are different from that of this module. This module will be removed in 0.20.\n",
      "  \"This module will be removed in 0.20.\", DeprecationWarning)\n"
     ]
    }
   ],
   "source": [
    "# Import libraries\n",
    "import os\n",
    "import sys\n",
    "from multiprocessing import cpu_count\n",
    "import pandas as pd\n",
    "import numpy as np\n",
    "import matplotlib.pyplot as plt\n",
    "from sklearn.model_selection import train_test_split\n",
    "from sklearn.model_selection import cross_val_score\n",
    "from sklearn.model_selection import GridSearchCV\n",
    "from sklearn.metrics import roc_auc_score\n",
    "from sklearn.metrics import roc_curve\n",
    "#from sklearn.pipeline import Pipeline\n",
    "from imblearn.pipeline import Pipeline\n",
    "from sklearn.dummy import DummyClassifier\n",
    "from imblearn.under_sampling import RandomUnderSampler\n",
    "from sklearn.externals import joblib\n",
    "\n",
    "# Note: The xgboost package uses an older version of sklearn. \n",
    "# When you run \"from xgboost.sklearn import XGBClassifier,\"\n",
    "# a DeprecationWarning is raised. You can ignore the warning.\n",
    "\n",
    "from xgboost.sklearn import XGBClassifier\n",
    "\n",
    "# Modify notebook settings\n",
    "%matplotlib inline\n",
    "plt.style.use('ggplot')\n",
    "pd.options.display.max_columns = 100\n",
    "pd.options.display.max_rows = 100"
   ]
  },
  {
   "cell_type": "markdown",
   "metadata": {},
   "source": [
    "### Create paths to data folders and files"
   ]
  },
  {
   "cell_type": "code",
   "execution_count": 2,
   "metadata": {
    "collapsed": true
   },
   "outputs": [],
   "source": [
    "# Create a variable for the project root directory\n",
    "proj_root = os.path.join(os.pardir)\n",
    "\n",
    "# Save the path to the folder that will contain the final,\n",
    "# processed data: /data/processed\n",
    "processed_data_dir = os.path.join(proj_root,\n",
    "                                \"data\",\n",
    "                                \"processed\")\n",
    "\n",
    "# Save the path to final, processed Instacart data file.\n",
    "final_csv_name = 'instacart_final.csv'\n",
    "\n",
    "final_csv_path = os.path.join(processed_data_dir,\n",
    "                              final_csv_name)\n",
    "\n",
    "# Save path to the `models` folder, where we will save the\n",
    "# pickled pipeline and grid search objects\n",
    "models_folder = os.path.join(proj_root,\n",
    "                             \"models\")\n",
    "\n",
    "# Save the path to the folder that will contain the figures\n",
    "# for the final report: /reports/figures\n",
    "figures_dir = os.path.join(proj_root, \"reports\", \"figures\")"
   ]
  },
  {
   "cell_type": "markdown",
   "metadata": {},
   "source": [
    "### Read in data"
   ]
  },
  {
   "cell_type": "code",
   "execution_count": 3,
   "metadata": {
    "collapsed": true
   },
   "outputs": [],
   "source": [
    "df = pd.read_csv(final_csv_path, index_col=0)"
   ]
  },
  {
   "cell_type": "markdown",
   "metadata": {},
   "source": [
    "`total_buy_ratio_n5` is a linear combination of `total_buy_n5`. Therefore, we drop `total_buy_ratio_n5` from our feature set."
   ]
  },
  {
   "cell_type": "code",
   "execution_count": 4,
   "metadata": {
    "collapsed": true
   },
   "outputs": [],
   "source": [
    "df = df.drop('total_buy_ratio_n5', axis=1)"
   ]
  },
  {
   "cell_type": "markdown",
   "metadata": {},
   "source": [
    "### Prepare the train set and test set"
   ]
  },
  {
   "cell_type": "code",
   "execution_count": 5,
   "metadata": {
    "collapsed": true
   },
   "outputs": [],
   "source": [
    "# Extract X and y from df\n",
    "X = df.drop('y', axis=1).values\n",
    "y = df['y'].values\n",
    "\n",
    "# Train test split\n",
    "X_train, X_test, y_train, y_test = \\\n",
    "    train_test_split(X, y, test_size=0.3, random_state=42)"
   ]
  },
  {
   "cell_type": "code",
   "execution_count": 6,
   "metadata": {},
   "outputs": [
    {
     "name": "stdout",
     "output_type": "stream",
     "text": [
      "13,307,953\n",
      "9,315,567\n",
      "3,992,386\n"
     ]
    }
   ],
   "source": [
    "# Check the number of samples in each set.\n",
    "print('{:,}'.format(len(y)))\n",
    "print('{:,}'.format(len(y_train)))\n",
    "print('{:,}'.format(len(y_test)))"
   ]
  },
  {
   "cell_type": "markdown",
   "metadata": {},
   "source": [
    "## Create pipeline"
   ]
  },
  {
   "cell_type": "code",
   "execution_count": 7,
   "metadata": {
    "collapsed": true
   },
   "outputs": [],
   "source": [
    "# Create pipeline\n",
    "pipe = Pipeline([('sampler', RandomUnderSampler()),\n",
    "                 ('classifier', XGBClassifier())])"
   ]
  },
  {
   "cell_type": "code",
   "execution_count": 8,
   "metadata": {
    "collapsed": true
   },
   "outputs": [],
   "source": [
    "# Create parameter grid\n",
    "param_grid = [\n",
    "    {'classifier': [XGBClassifier(objective='binary:logistic')], \n",
    "     'sampler': [None, RandomUnderSampler(random_state=42)],\n",
    "     'classifier__n_estimators': [100],\n",
    "     'classifier__learning_rate': [0.1],\n",
    "     'classifier__gamma': [0.01],\n",
    "     'classifier__max_delta_step': [0],\n",
    "     'classifier__max_depth': [5],\n",
    "     'classifier__subsample': [1],\n",
    "     'classifier__reg_lambda': [1.0],\n",
    "     'classifier__reg_alpha': [0.1]}]"
   ]
  },
  {
   "cell_type": "code",
   "execution_count": 9,
   "metadata": {
    "collapsed": true
   },
   "outputs": [],
   "source": [
    "# Set the number of cores to be used\n",
    "cores_used = cpu_count() - 1\n",
    "cores_used\n",
    "cores_used = 1"
   ]
  },
  {
   "cell_type": "code",
   "execution_count": 10,
   "metadata": {},
   "outputs": [
    {
     "name": "stdout",
     "output_type": "stream",
     "text": [
      "Fitting 5 folds for each of 2 candidates, totalling 10 fits\n"
     ]
    },
    {
     "name": "stderr",
     "output_type": "stream",
     "text": [
      "[Parallel(n_jobs=1)]: Done  10 out of  10 | elapsed: 25.1min finished\n"
     ]
    },
    {
     "name": "stdout",
     "output_type": "stream",
     "text": [
      "Best params:\n",
      "{'classifier': XGBClassifier(base_score=0.5, colsample_bylevel=1, colsample_bytree=1,\n",
      "       gamma=0.01, learning_rate=0.1, max_delta_step=0, max_depth=5,\n",
      "       min_child_weight=1, missing=None, n_estimators=100, nthread=-1,\n",
      "       objective='binary:logistic', reg_alpha=0.1, reg_lambda=1.0,\n",
      "       scale_pos_weight=1, seed=0, silent=True, subsample=1), 'classifier__gamma': 0.01, 'classifier__learning_rate': 0.1, 'classifier__max_delta_step': 0, 'classifier__max_depth': 5, 'classifier__n_estimators': 100, 'classifier__reg_alpha': 0.1, 'classifier__reg_lambda': 1.0, 'classifier__subsample': 1, 'sampler': None}\n",
      "\n",
      "Best cross-validation ROC AUC score: 0.79\n"
     ]
    }
   ],
   "source": [
    "# Set verbosity\n",
    "verbosity = 1\n",
    "\n",
    "# Execute Grid search\n",
    "grid = GridSearchCV(pipe, param_grid, cv=5, scoring='roc_auc',\n",
    "                    verbose=verbosity, n_jobs=cores_used)\n",
    "\n",
    "grid.fit(X_train, y_train)\n",
    "\n",
    "print(\"Best params:\\n{}\\n\".format(grid.best_params_))\n",
    "print(\"Best cross-validation ROC AUC score: {:.2f}\".format(grid.best_score_))"
   ]
  },
  {
   "cell_type": "markdown",
   "metadata": {},
   "source": [
    "#### Save the grid search object as a pickle file"
   ]
  },
  {
   "cell_type": "code",
   "execution_count": 11,
   "metadata": {},
   "outputs": [
    {
     "data": {
      "text/plain": [
       "['../models/gridsearch_pickle.pkl']"
      ]
     },
     "execution_count": 11,
     "metadata": {},
     "output_type": "execute_result"
    }
   ],
   "source": [
    "full_gridsearch_file_name = 'gridsearch_pickle.pkl'\n",
    "\n",
    "full_gridsearch_path = os.path.join(models_folder,\n",
    "                                    full_gridsearch_file_name)\n",
    "\n",
    "joblib.dump(grid, full_gridsearch_path)"
   ]
  },
  {
   "cell_type": "code",
   "execution_count": 12,
   "metadata": {},
   "outputs": [
    {
     "data": {
      "text/plain": [
       "['../models/pipeline_pickle.pkl']"
      ]
     },
     "execution_count": 12,
     "metadata": {},
     "output_type": "execute_result"
    }
   ],
   "source": [
    "best_pipeline_file_name = 'pipeline_pickle.pkl'\n",
    "\n",
    "best_pipeline_path = os.path.join(models_folder, \n",
    "                                  best_pipeline_file_name)\n",
    "\n",
    "joblib.dump(grid.best_estimator_, best_pipeline_path)"
   ]
  },
  {
   "cell_type": "markdown",
   "metadata": {},
   "source": [
    "### Plot the Receiver Operating Characteristic Curve"
   ]
  },
  {
   "cell_type": "code",
   "execution_count": 13,
   "metadata": {
    "collapsed": true
   },
   "outputs": [],
   "source": [
    "clf = grid.best_estimator_"
   ]
  },
  {
   "cell_type": "code",
   "execution_count": 14,
   "metadata": {},
   "outputs": [
    {
     "data": {
      "text/plain": [
       "DummyClassifier(constant=None, random_state=42, strategy='most_frequent')"
      ]
     },
     "execution_count": 14,
     "metadata": {},
     "output_type": "execute_result"
    }
   ],
   "source": [
    "dummy_clf = DummyClassifier(strategy='most_frequent',\n",
    "                                    random_state=42)\n",
    "\n",
    "dummy_clf.fit(X_train, y_train)"
   ]
  },
  {
   "cell_type": "code",
   "execution_count": 15,
   "metadata": {},
   "outputs": [
    {
     "data": {
      "image/png": "[encoded data removed]",
      "text/plain": [
       "<matplotlib.figure.Figure at 0x1137ded68>"
      ]
     },
     "metadata": {},
     "output_type": "display_data"
    }
   ],
   "source": [
    "plt.style.use('seaborn-whitegrid')\n",
    "\n",
    "plt.figure(figsize=(6,4))\n",
    "\n",
    "probs = clf.predict_proba(X_test)\n",
    "preds = probs[:,1]\n",
    "fpr, tpr, threshold = roc_curve(y_test, preds)\n",
    "roc_auc = roc_auc_score(y_test, preds)\n",
    "plt.plot(fpr, tpr, 'b', label = 'XGBoost Test AUC = %0.2f' % roc_auc)\n",
    "\n",
    "probs = dummy_clf.predict_proba(X_test)\n",
    "preds = probs[:,1]\n",
    "fpr, tpr, threshold = roc_curve(y_test, preds)\n",
    "#roc_auc = auc(fpr, tpr)\n",
    "roc_auc = roc_auc_score(y_test, preds)\n",
    "plt.plot(fpr, tpr, 'r--', label = 'Dummy Model AUC = %0.2f' % roc_auc)\n",
    "\n",
    "plt.title('Receiver Operating Characteristic')\n",
    "plt.legend(loc = 'lower right')\n",
    "plt.xlim([-0.005, 1])\n",
    "plt.ylim([0, 1.005])\n",
    "plt.ylabel('True Positive Rate')\n",
    "plt.xlabel('False Positive Rate')\n",
    "\n",
    "# figure file_name\n",
    "fig_file_name = 'roc_curve'\n",
    "\n",
    "# figure file_path\n",
    "fig_path = os.path.join(figures_dir,\n",
    "                        fig_file_name)\n",
    "\n",
    "# Save the figure\n",
    "plt.savefig(fig_path, dpi = 300)"
   ]
  }
 ],
 "metadata": {
  "kernelspec": {
   "display_name": "Python 3",
   "language": "python",
   "name": "python3"
  },
  "language_info": {
   "codemirror_mode": {
    "name": "ipython",
    "version": 3
   },
   "file_extension": ".py",
   "mimetype": "text/x-python",
   "name": "python",
   "nbconvert_exporter": "python",
   "pygments_lexer": "ipython3",
   "version": "3.6.1"
  }
 },
 "nbformat": 4,
 "nbformat_minor": 2
}
